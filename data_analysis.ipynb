{
 "cells": [
  {
   "cell_type": "markdown",
   "metadata": {},
   "source": [
    "# Care Team Engagment Prediction - Data Analysis"
   ]
  },
  {
   "cell_type": "markdown",
   "metadata": {},
   "source": [
    "This notebook includes the following steps:\n",
    "<ul>\n",
    "<li> Read data file </li>\n",
    "<li> Analysis to define Y </li>\n",
    "<li> Hot words analys </li>\n",
    "<li> Examin variables distribution </li>\n",
    "</ul>"
   ]
  },
  {
   "cell_type": "markdown",
   "metadata": {},
   "source": [
    "### 1. Read data file (locally or from S3) "
   ]
  },
  {
   "cell_type": "code",
   "execution_count": 279,
   "metadata": {},
   "outputs": [],
   "source": [
    "import numpy as np\n",
    "import pandas as pd\n",
    "import matplotlib.pyplot as plt\n",
    "\n",
    "\n",
    "import sklearn\n",
    "from sklearn import preprocessing\n",
    "from sklearn.model_selection import train_test_split"
   ]
  },
  {
   "cell_type": "code",
   "execution_count": 280,
   "metadata": {},
   "outputs": [],
   "source": [
    "%matplotlib inline"
   ]
  },
  {
   "cell_type": "code",
   "execution_count": 281,
   "metadata": {},
   "outputs": [],
   "source": [
    "# Read local data file\n",
    "df1 = pd.read_csv('analysisData1.csv')"
   ]
  },
  {
   "cell_type": "raw",
   "metadata": {},
   "source": [
    "# Reading a file from S3\n",
    "bucket='sagemaker-studio-02e2gyih7qot'\n",
    "data_key = 'cleanData1.csv'\n",
    "data_location = 's3://{}/{}'.format(bucket, data_key)\n",
    "\n",
    "df1 = pd.read_csv(data_location)"
   ]
  },
  {
   "cell_type": "code",
   "execution_count": 282,
   "metadata": {},
   "outputs": [
    {
     "data": {
      "text/plain": [
       "(52885, 36)"
      ]
     },
     "execution_count": 282,
     "metadata": {},
     "output_type": "execute_result"
    }
   ],
   "source": [
    "df1.shape"
   ]
  },
  {
   "cell_type": "code",
   "execution_count": 283,
   "metadata": {},
   "outputs": [
    {
     "data": {
      "text/plain": [
       "Index(['days_to_first_et', 'days_to_coach', 'is_gender_female',\n",
       "       'is_gender_male', 'is_gender_other', 'bio_length', 'reasons_length',\n",
       "       'imagine_free_length', 'reason_limited_time',\n",
       "       'reason_family_obligations', 'reason_work_obligations', 'reason_other',\n",
       "       'surgery_1yr', 'pain_severity', 'pain_vas', 'pain_description_length',\n",
       "       'bmi', 'gad', 'phq', 'inbound_coach_messages_4_weeks',\n",
       "       'inbound_coach_messages_1_week', 'inbound_coach_messages_length_1_week',\n",
       "       'inbound_member_messages_4_weeks', 'inbound_member_messages_1_week',\n",
       "       'surgery_message', 'call_message', 'interaction_message',\n",
       "       'video_message', 'booking_message', 'back', 'hip', 'knee', 'neck',\n",
       "       'shoulder', 'hot_word', 'Y'],\n",
       "      dtype='object')"
      ]
     },
     "execution_count": 283,
     "metadata": {},
     "output_type": "execute_result"
    }
   ],
   "source": [
    "df1.columns"
   ]
  },
  {
   "cell_type": "markdown",
   "metadata": {},
   "source": [
    "### 2. Define Y"
   ]
  },
  {
   "cell_type": "code",
   "execution_count": 284,
   "metadata": {},
   "outputs": [
    {
     "data": {
      "text/plain": [
       "<function matplotlib.pyplot.show(*args, **kw)>"
      ]
     },
     "execution_count": 284,
     "metadata": {},
     "output_type": "execute_result"
    },
    {
     "data": {
      "image/png": "[encoded data removed]",
      "text/plain": [
       "<Figure size 432x288 with 1 Axes>"
      ]
     },
     "metadata": {
      "needs_background": "light"
     },
     "output_type": "display_data"
    }
   ],
   "source": [
    "#df1['total_messages'] = df1['inbound_coach_messages_4_weeks'] + df1['inbound_member_messages_4_weeks']\n",
    "t1 = pd.DataFrame(df1.loc[:,'inbound_coach_messages_4_weeks'])\n",
    "t1.hist(range=(0,50), bins=50)\n",
    "plt.show"
   ]
  },
  {
   "cell_type": "code",
   "execution_count": 285,
   "metadata": {},
   "outputs": [
    {
     "name": "stdout",
     "output_type": "stream",
     "text": [
      "Our goal is to map out 25% of members, which is 13221 user\n",
      "Setting inbound messages to coach (in first 4 week) limit to 7\n",
      "With current limit, we got 12483 members\n"
     ]
    }
   ],
   "source": [
    "# 25% of 53000 = 13,250\n",
    "limit = 7\n",
    "\n",
    "print('Our goal is to map out 25% of members, which is {0} user'.format (int(0.25* t1.shape[0])))\n",
    "print('Setting inbound messages to coach (in first 4 week) limit to {0}'.format(limit))\n",
    "mid_tier_count = t1[t1['inbound_coach_messages_4_weeks'] > 7].shape[0]\n",
    "print('With current limit, we got {0} members'.format(mid_tier_count))"
   ]
  },
  {
   "cell_type": "markdown",
   "metadata": {},
   "source": [
    "## Hot words Analysis"
   ]
  },
  {
   "cell_type": "code",
   "execution_count": 286,
   "metadata": {},
   "outputs": [
    {
     "name": "stdout",
     "output_type": "stream",
     "text": [
      "1250 members out of 52885 actually used hot word, this is 2.4%\n",
      "Surgery used by 326 members\n",
      "Call used by 836 members\n",
      "Interaction 8 members\n",
      "Video 147 members\n"
     ]
    }
   ],
   "source": [
    "df1['hot_word']   =  df1['surgery_message'] + df1['call_message'] + df1['interaction_message'] + df1['video_message']\n",
    "total_hot_words   = (df1['hot_word']            > 0).sum()\n",
    "surgery_count     = (df1['surgery_message']     > 0).sum()\n",
    "call_count        = (df1['call_message']        > 0).sum()\n",
    "interaction_count = (df1['interaction_message'] > 0).sum()\n",
    "video_count       = (df1['video_message']       > 0).sum()\n",
    "\n",
    "print ('{0} members out of {1} actually used hot word, this is {2:2.2}%'.format(total_hot_words, df1.shape[0], total_hot_words*100/df1.shape[0]))\n",
    "print ('Surgery used by {0} members'.format(surgery_count))\n",
    "print ('Call used by {0} members'.format(call_count))\n",
    "print ('Interaction {0} members'.format(interaction_count))\n",
    "print ('Video {0} members'.format(video_count))\n"
   ]
  },
  {
   "cell_type": "code",
   "execution_count": 287,
   "metadata": {},
   "outputs": [
    {
     "name": "stdout",
     "output_type": "stream",
     "text": [
      "764 members used hot words but sent overall less then 7 messages\n",
      "486 members used hot words but sent overall more then 7 messages\n"
     ]
    }
   ],
   "source": [
    "# Is there a correlation between hot words and number of messages?\n",
    "\n",
    "hot_word_and_chatty = np.where((df1['Y'] == True) & (df1['hot_word'] > 0),1,0).sum()\n",
    "hot_word_and_not_chatty = np.where((df1['Y'] == False) & (df1['hot_word'] > 0),1,0).sum()\n",
    "\n",
    "print ('{0} members used hot words but sent overall less then 7 messages'.format(hot_word_and_not_chatty))\n",
    "print ('{0} members used hot words but sent overall more then 7 messages'.format(hot_word_and_chatty))\n"
   ]
  },
  {
   "cell_type": "markdown",
   "metadata": {},
   "source": [
    "## Variables distibution"
   ]
  },
  {
   "cell_type": "code",
   "execution_count": 288,
   "metadata": {},
   "outputs": [
    {
     "data": {
      "text/plain": [
       "<function matplotlib.pyplot.show(*args, **kw)>"
      ]
     },
     "execution_count": 288,
     "metadata": {},
     "output_type": "execute_result"
    },
    {
     "data": {
      "image/png": "[encoded data removed]",
      "text/plain": [
       "<Figure size 432x288 with 1 Axes>"
      ]
     },
     "metadata": {
      "needs_background": "light"
     },
     "output_type": "display_data"
    }
   ],
   "source": [
    "t2 = pd.DataFrame(df1.loc[:,'bio_length'])\n",
    "t2.hist(range=(0,200), bins=50)\n",
    "plt.show"
   ]
  },
  {
   "cell_type": "code",
   "execution_count": 289,
   "metadata": {},
   "outputs": [
    {
     "data": {
      "text/plain": [
       "<function matplotlib.pyplot.show(*args, **kw)>"
      ]
     },
     "execution_count": 289,
     "metadata": {},
     "output_type": "execute_result"
    },
    {
     "data": {
      "image/png": "[encoded data removed]",
      "text/plain": [
       "<Figure size 432x288 with 1 Axes>"
      ]
     },
     "metadata": {
      "needs_background": "light"
     },
     "output_type": "display_data"
    }
   ],
   "source": [
    "t3 = pd.DataFrame(df1.loc[:,'is_gender_female'])\n",
    "t3.hist(range=(0,1), bins=50)\n",
    "plt.show\n"
   ]
  },
  {
   "cell_type": "code",
   "execution_count": null,
   "metadata": {},
   "outputs": [],
   "source": []
  }
 ],
 "metadata": {
  "instance_type": "ml.t3.medium",
  "kernelspec": {
   "display_name": "Python 3 (Data Science)",
   "language": "python",
   "name": "python3__SAGEMAKER_INTERNAL__arn:aws:sagemaker:us-west-1:742091327244:image/datascience-1.0"
  },
  "language_info": {
   "codemirror_mode": {
    "name": "ipython",
    "version": 3
   },
   "file_extension": ".py",
   "mimetype": "text/x-python",
   "name": "python",
   "nbconvert_exporter": "python",
   "pygments_lexer": "ipython3",
   "version": "3.7.10"
  }
 },
 "nbformat": 4,
 "nbformat_minor": 4
}
