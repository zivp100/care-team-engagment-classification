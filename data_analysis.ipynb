{
 "cells": [
  {
   "cell_type": "code",
   "execution_count": 267,
   "metadata": {},
   "outputs": [],
   "source": [
    "#Read data file\n",
    "import pandas as pd\n",
    "from sklearn import preprocessing\n",
    "\n",
    "df1 = pd.read_csv('clone_of_low_tier_retention_classifier-query_5-663ddaee2c8e-2022-06-15-15-52-52 (1).csv')"
   ]
  },
  {
   "cell_type": "code",
   "execution_count": 268,
   "metadata": {},
   "outputs": [
    {
     "data": {
      "text/plain": [
       "(53102, 34)"
      ]
     },
     "execution_count": 268,
     "metadata": {},
     "output_type": "execute_result"
    }
   ],
   "source": [
    "df1.shape"
   ]
  },
  {
   "cell_type": "code",
   "execution_count": 269,
   "metadata": {},
   "outputs": [
    {
     "data": {
      "text/plain": [
       "Index(['pathway_id', 'user_id', 'uuid', 'acceptance_date', 'first_et',\n",
       "       'days_to_onboard', 'transferred_to_coach_at', 'indication',\n",
       "       'is_gender_female', 'is_gender_male', 'is_gender_other',\n",
       "       'user_age_years', 'gad', 'phq', 'surgery_1yr', 'pain_severity',\n",
       "       'pain_vas', 'pain_description_length', 'bmi', 'bio_length',\n",
       "       'reasons_length', 'imagine_free_length', 'reason_limited_time',\n",
       "       'reason_family_obligations', 'reason_work_obligations', 'reason_other',\n",
       "       'inbound_os_messages_all', 'inbound_os_messages',\n",
       "       'inbound_coach_messages_all', 'inbound_coach_messages',\n",
       "       'ets_per_week_4_wk', 'week_4_retained', 'length_messages', 'cluster'],\n",
       "      dtype='object')"
      ]
     },
     "execution_count": 269,
     "metadata": {},
     "output_type": "execute_result"
    }
   ],
   "source": [
    "df1.columns"
   ]
  },
  {
   "cell_type": "code",
   "execution_count": 270,
   "metadata": {},
   "outputs": [],
   "source": [
    "# Find memebers with multiple pathways\n",
    "#tx_frequency = df1.groupby('user_id').acceptance_date.count().reset_index()\n",
    "#tx_frequency.columns = ['u.uuid','frequency']\n",
    "#tx_frequency[tx_frequency['frequency'] > 1].shape\n"
   ]
  },
  {
   "cell_type": "code",
   "execution_count": null,
   "metadata": {},
   "outputs": [],
   "source": []
  },
  {
   "cell_type": "code",
   "execution_count": 271,
   "metadata": {},
   "outputs": [],
   "source": [
    "df1 = df1.drop(['pathway_id', 'user_id', 'uuid', 'ets_per_week_4_wk', 'week_4_retained', 'cluster'], axis=1)"
   ]
  },
  {
   "cell_type": "code",
   "execution_count": 272,
   "metadata": {},
   "outputs": [],
   "source": [
    "start_date = '2022-01-01'\n",
    "# 'acceptance_date' -> 'first_et' -> 'transferred_to_coach_at'\n",
    "\n",
    "df1['transferred_to_coach_day'] = (pd.to_datetime(df1['transferred_to_coach_at']) - pd.to_datetime(df1['acceptance_date'])).dt.days\n",
    "df1['first_et_day'] = (pd.to_datetime(df1['first_et']) - pd.to_datetime(df1['acceptance_date'])).dt.days                     \n",
    "df1['acceptance_days_ago'] = (pd.to_datetime(df1['acceptance_date']) - pd.to_datetime(start_date)).dt.days\n",
    "                       \n",
    "df1 = df1.drop(['acceptance_date', 'transferred_to_coach_at', 'first_et'], axis=1)"
   ]
  },
  {
   "cell_type": "code",
   "execution_count": 273,
   "metadata": {},
   "outputs": [
    {
     "data": {
      "text/plain": [
       "days_to_onboard               float64\n",
       "indication                     object\n",
       "is_gender_female                int64\n",
       "is_gender_male                  int64\n",
       "is_gender_other                 int64\n",
       "user_age_years                float64\n",
       "gad                           float64\n",
       "phq                           float64\n",
       "surgery_1yr                     int64\n",
       "pain_severity                 float64\n",
       "pain_vas                      float64\n",
       "pain_description_length         int64\n",
       "bmi                           float64\n",
       "bio_length                      int64\n",
       "reasons_length                  int64\n",
       "imagine_free_length             int64\n",
       "reason_limited_time             int64\n",
       "reason_family_obligations       int64\n",
       "reason_work_obligations         int64\n",
       "reason_other                    int64\n",
       "inbound_os_messages_all         int64\n",
       "inbound_os_messages             int64\n",
       "inbound_coach_messages_all      int64\n",
       "inbound_coach_messages          int64\n",
       "length_messages                 int64\n",
       "transferred_to_coach_day      float64\n",
       "first_et_day                    int64\n",
       "acceptance_days_ago             int64\n",
       "dtype: object"
      ]
     },
     "execution_count": 273,
     "metadata": {},
     "output_type": "execute_result"
    }
   ],
   "source": [
    "df1.dtypes"
   ]
  },
  {
   "cell_type": "code",
   "execution_count": 274,
   "metadata": {},
   "outputs": [],
   "source": [
    "indication_dummies = pd.get_dummies(df1['indication'])\n",
    "df1 = pd.concat([df1, indication_dummies], axis=1)      \n",
    "df1 = df1.drop(['indication'], axis=1)"
   ]
  },
  {
   "cell_type": "code",
   "execution_count": 275,
   "metadata": {},
   "outputs": [],
   "source": [
    "# Define target column\n",
    "# See analysis below\n",
    "df1['total_messages'] = df1['inbound_os_messages_all'] + df1['inbound_coach_messages_all']\n",
    "df1['Y'] = df1['total_messages'] > 9\n",
    "df1 = df1.drop(['inbound_coach_messages', 'inbound_os_messages', 'total_messages'], axis=1)"
   ]
  },
  {
   "cell_type": "code",
   "execution_count": 276,
   "metadata": {},
   "outputs": [
    {
     "data": {
      "text/html": [
       "<div>\n",
       "<style scoped>\n",
       "    .dataframe tbody tr th:only-of-type {\n",
       "        vertical-align: middle;\n",
       "    }\n",
       "\n",
       "    .dataframe tbody tr th {\n",
       "        vertical-align: top;\n",
       "    }\n",
       "\n",
       "    .dataframe thead th {\n",
       "        text-align: right;\n",
       "    }\n",
       "</style>\n",
       "<table border=\"1\" class=\"dataframe\">\n",
       "  <thead>\n",
       "    <tr style=\"text-align: right;\">\n",
       "      <th></th>\n",
       "      <th>days_to_onboard</th>\n",
       "      <th>is_gender_female</th>\n",
       "      <th>is_gender_male</th>\n",
       "      <th>is_gender_other</th>\n",
       "      <th>user_age_years</th>\n",
       "      <th>gad</th>\n",
       "      <th>phq</th>\n",
       "      <th>surgery_1yr</th>\n",
       "      <th>pain_severity</th>\n",
       "      <th>pain_vas</th>\n",
       "      <th>...</th>\n",
       "      <th>length_messages</th>\n",
       "      <th>transferred_to_coach_day</th>\n",
       "      <th>first_et_day</th>\n",
       "      <th>acceptance_days_ago</th>\n",
       "      <th>back</th>\n",
       "      <th>hip</th>\n",
       "      <th>knee</th>\n",
       "      <th>neck</th>\n",
       "      <th>shoulder</th>\n",
       "      <th>Y</th>\n",
       "    </tr>\n",
       "  </thead>\n",
       "  <tbody>\n",
       "    <tr>\n",
       "      <th>0</th>\n",
       "      <td>3.0</td>\n",
       "      <td>0</td>\n",
       "      <td>1</td>\n",
       "      <td>0</td>\n",
       "      <td>54.0</td>\n",
       "      <td>0.0</td>\n",
       "      <td>4.0</td>\n",
       "      <td>1</td>\n",
       "      <td>1.0</td>\n",
       "      <td>0.9</td>\n",
       "      <td>...</td>\n",
       "      <td>0</td>\n",
       "      <td>3.0</td>\n",
       "      <td>3</td>\n",
       "      <td>45</td>\n",
       "      <td>1</td>\n",
       "      <td>0</td>\n",
       "      <td>0</td>\n",
       "      <td>0</td>\n",
       "      <td>0</td>\n",
       "      <td>False</td>\n",
       "    </tr>\n",
       "    <tr>\n",
       "      <th>1</th>\n",
       "      <td>75.0</td>\n",
       "      <td>1</td>\n",
       "      <td>0</td>\n",
       "      <td>0</td>\n",
       "      <td>37.0</td>\n",
       "      <td>15.0</td>\n",
       "      <td>14.0</td>\n",
       "      <td>0</td>\n",
       "      <td>4.0</td>\n",
       "      <td>3.4</td>\n",
       "      <td>...</td>\n",
       "      <td>161</td>\n",
       "      <td>75.0</td>\n",
       "      <td>75</td>\n",
       "      <td>45</td>\n",
       "      <td>0</td>\n",
       "      <td>0</td>\n",
       "      <td>0</td>\n",
       "      <td>1</td>\n",
       "      <td>0</td>\n",
       "      <td>False</td>\n",
       "    </tr>\n",
       "    <tr>\n",
       "      <th>2</th>\n",
       "      <td>13.0</td>\n",
       "      <td>1</td>\n",
       "      <td>0</td>\n",
       "      <td>0</td>\n",
       "      <td>53.0</td>\n",
       "      <td>18.0</td>\n",
       "      <td>0.0</td>\n",
       "      <td>0</td>\n",
       "      <td>4.0</td>\n",
       "      <td>5.5</td>\n",
       "      <td>...</td>\n",
       "      <td>474</td>\n",
       "      <td>21.0</td>\n",
       "      <td>13</td>\n",
       "      <td>45</td>\n",
       "      <td>0</td>\n",
       "      <td>0</td>\n",
       "      <td>0</td>\n",
       "      <td>1</td>\n",
       "      <td>0</td>\n",
       "      <td>False</td>\n",
       "    </tr>\n",
       "    <tr>\n",
       "      <th>3</th>\n",
       "      <td>16.0</td>\n",
       "      <td>1</td>\n",
       "      <td>0</td>\n",
       "      <td>0</td>\n",
       "      <td>56.0</td>\n",
       "      <td>5.0</td>\n",
       "      <td>6.0</td>\n",
       "      <td>53</td>\n",
       "      <td>10.0</td>\n",
       "      <td>8.2</td>\n",
       "      <td>...</td>\n",
       "      <td>5008</td>\n",
       "      <td>16.0</td>\n",
       "      <td>16</td>\n",
       "      <td>50</td>\n",
       "      <td>0</td>\n",
       "      <td>0</td>\n",
       "      <td>1</td>\n",
       "      <td>0</td>\n",
       "      <td>0</td>\n",
       "      <td>True</td>\n",
       "    </tr>\n",
       "    <tr>\n",
       "      <th>4</th>\n",
       "      <td>5.0</td>\n",
       "      <td>1</td>\n",
       "      <td>0</td>\n",
       "      <td>0</td>\n",
       "      <td>36.0</td>\n",
       "      <td>4.0</td>\n",
       "      <td>0.0</td>\n",
       "      <td>0</td>\n",
       "      <td>1.0</td>\n",
       "      <td>5.1</td>\n",
       "      <td>...</td>\n",
       "      <td>0</td>\n",
       "      <td>5.0</td>\n",
       "      <td>5</td>\n",
       "      <td>46</td>\n",
       "      <td>0</td>\n",
       "      <td>0</td>\n",
       "      <td>0</td>\n",
       "      <td>1</td>\n",
       "      <td>0</td>\n",
       "      <td>False</td>\n",
       "    </tr>\n",
       "  </tbody>\n",
       "</table>\n",
       "<p>5 rows × 31 columns</p>\n",
       "</div>"
      ],
      "text/plain": [
       "   days_to_onboard  is_gender_female  is_gender_male  is_gender_other  \\\n",
       "0              3.0                 0               1                0   \n",
       "1             75.0                 1               0                0   \n",
       "2             13.0                 1               0                0   \n",
       "3             16.0                 1               0                0   \n",
       "4              5.0                 1               0                0   \n",
       "\n",
       "   user_age_years   gad   phq  surgery_1yr  pain_severity  pain_vas  ...  \\\n",
       "0            54.0   0.0   4.0            1            1.0       0.9  ...   \n",
       "1            37.0  15.0  14.0            0            4.0       3.4  ...   \n",
       "2            53.0  18.0   0.0            0            4.0       5.5  ...   \n",
       "3            56.0   5.0   6.0           53           10.0       8.2  ...   \n",
       "4            36.0   4.0   0.0            0            1.0       5.1  ...   \n",
       "\n",
       "   length_messages  transferred_to_coach_day  first_et_day  \\\n",
       "0                0                       3.0             3   \n",
       "1              161                      75.0            75   \n",
       "2              474                      21.0            13   \n",
       "3             5008                      16.0            16   \n",
       "4                0                       5.0             5   \n",
       "\n",
       "   acceptance_days_ago  back  hip  knee  neck  shoulder      Y  \n",
       "0                   45     1    0     0     0         0  False  \n",
       "1                   45     0    0     0     1         0  False  \n",
       "2                   45     0    0     0     1         0  False  \n",
       "3                   50     0    0     1     0         0   True  \n",
       "4                   46     0    0     0     1         0  False  \n",
       "\n",
       "[5 rows x 31 columns]"
      ]
     },
     "execution_count": 276,
     "metadata": {},
     "output_type": "execute_result"
    }
   ],
   "source": [
    "df1.head(5)"
   ]
  },
  {
   "cell_type": "markdown",
   "metadata": {},
   "source": [
    "### Fixing Nulls"
   ]
  },
  {
   "cell_type": "code",
   "execution_count": 277,
   "metadata": {},
   "outputs": [
    {
     "name": "stdout",
     "output_type": "stream",
     "text": [
      "days_to_onboard                   0\n",
      "is_gender_female                  0\n",
      "is_gender_male                    0\n",
      "is_gender_other                   0\n",
      "user_age_years                    0\n",
      "gad                               6\n",
      "phq                               7\n",
      "surgery_1yr                       0\n",
      "pain_severity                 12162\n",
      "pain_vas                       2175\n",
      "pain_description_length           0\n",
      "bmi                            2378\n",
      "bio_length                        0\n",
      "reasons_length                    0\n",
      "imagine_free_length               0\n",
      "reason_limited_time               0\n",
      "reason_family_obligations         0\n",
      "reason_work_obligations           0\n",
      "reason_other                      0\n",
      "inbound_os_messages_all           0\n",
      "inbound_coach_messages_all        0\n",
      "length_messages                   0\n",
      "transferred_to_coach_day       1010\n",
      "first_et_day                      0\n",
      "acceptance_days_ago               0\n",
      "back                              0\n",
      "hip                               0\n",
      "knee                              0\n",
      "neck                              0\n",
      "shoulder                          0\n",
      "Y                                 0\n",
      "dtype: int64\n"
     ]
    }
   ],
   "source": [
    "print(df1.isnull().sum()) # found no missing values in the data"
   ]
  },
  {
   "cell_type": "code",
   "execution_count": 278,
   "metadata": {},
   "outputs": [],
   "source": [
    "# remove members with transferred_to_coach_day = null\n",
    "df1 = df1[df1['transferred_to_coach_day'].notna()]"
   ]
  },
  {
   "cell_type": "code",
   "execution_count": 279,
   "metadata": {},
   "outputs": [],
   "source": [
    "# if pain_severity or pain_vas is null -> 0\n",
    "df1['pain_severity'].fillna(0, inplace=True)\n",
    "df1['pain_vas'].fillna(0, inplace=True)\n",
    "df1['gad'].fillna(0, inplace=True)\n",
    "df1['phq'].fillna(0, inplace=True)"
   ]
  },
  {
   "cell_type": "code",
   "execution_count": 280,
   "metadata": {},
   "outputs": [],
   "source": [
    "# but average BMI where BMI is null\n",
    "df1['bmi'].fillna((df1['bmi'].mean()), inplace=True)"
   ]
  },
  {
   "cell_type": "code",
   "execution_count": 281,
   "metadata": {},
   "outputs": [
    {
     "name": "stdout",
     "output_type": "stream",
     "text": [
      "days_to_onboard               0\n",
      "is_gender_female              0\n",
      "is_gender_male                0\n",
      "is_gender_other               0\n",
      "user_age_years                0\n",
      "gad                           0\n",
      "phq                           0\n",
      "surgery_1yr                   0\n",
      "pain_severity                 0\n",
      "pain_vas                      0\n",
      "pain_description_length       0\n",
      "bmi                           0\n",
      "bio_length                    0\n",
      "reasons_length                0\n",
      "imagine_free_length           0\n",
      "reason_limited_time           0\n",
      "reason_family_obligations     0\n",
      "reason_work_obligations       0\n",
      "reason_other                  0\n",
      "inbound_os_messages_all       0\n",
      "inbound_coach_messages_all    0\n",
      "length_messages               0\n",
      "transferred_to_coach_day      0\n",
      "first_et_day                  0\n",
      "acceptance_days_ago           0\n",
      "back                          0\n",
      "hip                           0\n",
      "knee                          0\n",
      "neck                          0\n",
      "shoulder                      0\n",
      "Y                             0\n",
      "dtype: int64\n"
     ]
    }
   ],
   "source": [
    "print(df1.isnull().sum()) # found no missing values in the data"
   ]
  },
  {
   "cell_type": "markdown",
   "metadata": {},
   "source": [
    "### Normalize"
   ]
  },
  {
   "cell_type": "code",
   "execution_count": 282,
   "metadata": {},
   "outputs": [],
   "source": [
    "x = df1.values #returns a numpy array\n",
    "min_max_scaler = preprocessing.MinMaxScaler()\n",
    "x_scaled = min_max_scaler.fit_transform(x)\n",
    "df2 = pd.DataFrame(x_scaled, columns=df1.columns)"
   ]
  },
  {
   "cell_type": "code",
   "execution_count": 283,
   "metadata": {},
   "outputs": [
    {
     "data": {
      "text/html": [
       "<div>\n",
       "<style scoped>\n",
       "    .dataframe tbody tr th:only-of-type {\n",
       "        vertical-align: middle;\n",
       "    }\n",
       "\n",
       "    .dataframe tbody tr th {\n",
       "        vertical-align: top;\n",
       "    }\n",
       "\n",
       "    .dataframe thead th {\n",
       "        text-align: right;\n",
       "    }\n",
       "</style>\n",
       "<table border=\"1\" class=\"dataframe\">\n",
       "  <thead>\n",
       "    <tr style=\"text-align: right;\">\n",
       "      <th></th>\n",
       "      <th>days_to_onboard</th>\n",
       "      <th>is_gender_female</th>\n",
       "      <th>is_gender_male</th>\n",
       "      <th>is_gender_other</th>\n",
       "      <th>user_age_years</th>\n",
       "      <th>gad</th>\n",
       "      <th>phq</th>\n",
       "      <th>surgery_1yr</th>\n",
       "      <th>pain_severity</th>\n",
       "      <th>pain_vas</th>\n",
       "      <th>...</th>\n",
       "      <th>length_messages</th>\n",
       "      <th>transferred_to_coach_day</th>\n",
       "      <th>first_et_day</th>\n",
       "      <th>acceptance_days_ago</th>\n",
       "      <th>back</th>\n",
       "      <th>hip</th>\n",
       "      <th>knee</th>\n",
       "      <th>neck</th>\n",
       "      <th>shoulder</th>\n",
       "      <th>Y</th>\n",
       "    </tr>\n",
       "  </thead>\n",
       "  <tbody>\n",
       "    <tr>\n",
       "      <th>0</th>\n",
       "      <td>0.034483</td>\n",
       "      <td>0.0</td>\n",
       "      <td>1.0</td>\n",
       "      <td>0.0</td>\n",
       "      <td>0.467532</td>\n",
       "      <td>0.000000</td>\n",
       "      <td>0.166667</td>\n",
       "      <td>0.01</td>\n",
       "      <td>0.1</td>\n",
       "      <td>0.09</td>\n",
       "      <td>...</td>\n",
       "      <td>0.000000</td>\n",
       "      <td>0.026786</td>\n",
       "      <td>0.034483</td>\n",
       "      <td>0.000000</td>\n",
       "      <td>1.0</td>\n",
       "      <td>0.0</td>\n",
       "      <td>0.0</td>\n",
       "      <td>0.0</td>\n",
       "      <td>0.0</td>\n",
       "      <td>0.0</td>\n",
       "    </tr>\n",
       "    <tr>\n",
       "      <th>1</th>\n",
       "      <td>0.862069</td>\n",
       "      <td>1.0</td>\n",
       "      <td>0.0</td>\n",
       "      <td>0.0</td>\n",
       "      <td>0.246753</td>\n",
       "      <td>0.714286</td>\n",
       "      <td>0.583333</td>\n",
       "      <td>0.00</td>\n",
       "      <td>0.4</td>\n",
       "      <td>0.34</td>\n",
       "      <td>...</td>\n",
       "      <td>0.002137</td>\n",
       "      <td>0.669643</td>\n",
       "      <td>0.862069</td>\n",
       "      <td>0.000000</td>\n",
       "      <td>0.0</td>\n",
       "      <td>0.0</td>\n",
       "      <td>0.0</td>\n",
       "      <td>1.0</td>\n",
       "      <td>0.0</td>\n",
       "      <td>0.0</td>\n",
       "    </tr>\n",
       "    <tr>\n",
       "      <th>2</th>\n",
       "      <td>0.149425</td>\n",
       "      <td>1.0</td>\n",
       "      <td>0.0</td>\n",
       "      <td>0.0</td>\n",
       "      <td>0.454545</td>\n",
       "      <td>0.857143</td>\n",
       "      <td>0.000000</td>\n",
       "      <td>0.00</td>\n",
       "      <td>0.4</td>\n",
       "      <td>0.55</td>\n",
       "      <td>...</td>\n",
       "      <td>0.006292</td>\n",
       "      <td>0.187500</td>\n",
       "      <td>0.149425</td>\n",
       "      <td>0.000000</td>\n",
       "      <td>0.0</td>\n",
       "      <td>0.0</td>\n",
       "      <td>0.0</td>\n",
       "      <td>1.0</td>\n",
       "      <td>0.0</td>\n",
       "      <td>0.0</td>\n",
       "    </tr>\n",
       "    <tr>\n",
       "      <th>3</th>\n",
       "      <td>0.183908</td>\n",
       "      <td>1.0</td>\n",
       "      <td>0.0</td>\n",
       "      <td>0.0</td>\n",
       "      <td>0.493506</td>\n",
       "      <td>0.238095</td>\n",
       "      <td>0.250000</td>\n",
       "      <td>0.53</td>\n",
       "      <td>1.0</td>\n",
       "      <td>0.82</td>\n",
       "      <td>...</td>\n",
       "      <td>0.066476</td>\n",
       "      <td>0.142857</td>\n",
       "      <td>0.183908</td>\n",
       "      <td>0.054348</td>\n",
       "      <td>0.0</td>\n",
       "      <td>0.0</td>\n",
       "      <td>1.0</td>\n",
       "      <td>0.0</td>\n",
       "      <td>0.0</td>\n",
       "      <td>1.0</td>\n",
       "    </tr>\n",
       "    <tr>\n",
       "      <th>4</th>\n",
       "      <td>0.057471</td>\n",
       "      <td>1.0</td>\n",
       "      <td>0.0</td>\n",
       "      <td>0.0</td>\n",
       "      <td>0.233766</td>\n",
       "      <td>0.190476</td>\n",
       "      <td>0.000000</td>\n",
       "      <td>0.00</td>\n",
       "      <td>0.1</td>\n",
       "      <td>0.51</td>\n",
       "      <td>...</td>\n",
       "      <td>0.000000</td>\n",
       "      <td>0.044643</td>\n",
       "      <td>0.057471</td>\n",
       "      <td>0.010870</td>\n",
       "      <td>0.0</td>\n",
       "      <td>0.0</td>\n",
       "      <td>0.0</td>\n",
       "      <td>1.0</td>\n",
       "      <td>0.0</td>\n",
       "      <td>0.0</td>\n",
       "    </tr>\n",
       "  </tbody>\n",
       "</table>\n",
       "<p>5 rows × 31 columns</p>\n",
       "</div>"
      ],
      "text/plain": [
       "   days_to_onboard  is_gender_female  is_gender_male  is_gender_other  \\\n",
       "0         0.034483               0.0             1.0              0.0   \n",
       "1         0.862069               1.0             0.0              0.0   \n",
       "2         0.149425               1.0             0.0              0.0   \n",
       "3         0.183908               1.0             0.0              0.0   \n",
       "4         0.057471               1.0             0.0              0.0   \n",
       "\n",
       "   user_age_years       gad       phq  surgery_1yr  pain_severity  pain_vas  \\\n",
       "0        0.467532  0.000000  0.166667         0.01            0.1      0.09   \n",
       "1        0.246753  0.714286  0.583333         0.00            0.4      0.34   \n",
       "2        0.454545  0.857143  0.000000         0.00            0.4      0.55   \n",
       "3        0.493506  0.238095  0.250000         0.53            1.0      0.82   \n",
       "4        0.233766  0.190476  0.000000         0.00            0.1      0.51   \n",
       "\n",
       "   ...  length_messages  transferred_to_coach_day  first_et_day  \\\n",
       "0  ...         0.000000                  0.026786      0.034483   \n",
       "1  ...         0.002137                  0.669643      0.862069   \n",
       "2  ...         0.006292                  0.187500      0.149425   \n",
       "3  ...         0.066476                  0.142857      0.183908   \n",
       "4  ...         0.000000                  0.044643      0.057471   \n",
       "\n",
       "   acceptance_days_ago  back  hip  knee  neck  shoulder    Y  \n",
       "0             0.000000   1.0  0.0   0.0   0.0       0.0  0.0  \n",
       "1             0.000000   0.0  0.0   0.0   1.0       0.0  0.0  \n",
       "2             0.000000   0.0  0.0   0.0   1.0       0.0  0.0  \n",
       "3             0.054348   0.0  0.0   1.0   0.0       0.0  1.0  \n",
       "4             0.010870   0.0  0.0   0.0   1.0       0.0  0.0  \n",
       "\n",
       "[5 rows x 31 columns]"
      ]
     },
     "execution_count": 283,
     "metadata": {},
     "output_type": "execute_result"
    }
   ],
   "source": [
    "df2.head()"
   ]
  },
  {
   "cell_type": "raw",
   "metadata": {},
   "source": [
    "Add all fields from second query\n",
    "-Age\n",
    "-Gender\n",
    "-New vs. Repeat\n",
    "-Client Industry\n",
    "-Client Age\n",
    "-Indication\n",
    "-Depression/Anxiety Score\n",
    "-Pre-program activity level\n",
    "-Weight\n",
    "-Kit ship time\n",
    "-Time to first message (from OS or Coach)\n"
   ]
  },
  {
   "cell_type": "raw",
   "metadata": {},
   "source": [
    "Need to add:\n",
    "    * Message text after cleaning\n",
    "    "
   ]
  },
  {
   "cell_type": "code",
   "execution_count": null,
   "metadata": {},
   "outputs": [],
   "source": []
  },
  {
   "cell_type": "raw",
   "metadata": {},
   "source": [
    "import matplotlib.pyplot as plt\n",
    "%matplotlib inline"
   ]
  },
  {
   "cell_type": "raw",
   "metadata": {},
   "source": [
    "df1['total_messages'] = df1['inbound_os_messages_all'] + df1['inbound_coach_messages_all']\n",
    "t = pd.DataFrame(df1.loc[:,'total_messages'])\n",
    "t.shape"
   ]
  },
  {
   "cell_type": "raw",
   "metadata": {},
   "source": [
    "t[t['total_messages'] < 50].shape"
   ]
  },
  {
   "cell_type": "raw",
   "metadata": {},
   "source": [
    "t.hist(range=(0,50), bins=50)\n",
    "plt.show\n"
   ]
  },
  {
   "cell_type": "raw",
   "metadata": {},
   "source": [
    "# 25% of 53000 = 13,250\n",
    "\n",
    "t[t['total_messages'] > 9].shape"
   ]
  },
  {
   "cell_type": "code",
   "execution_count": 284,
   "metadata": {},
   "outputs": [
    {
     "data": {
      "text/plain": [
       "Index(['days_to_onboard', 'is_gender_female', 'is_gender_male',\n",
       "       'is_gender_other', 'user_age_years', 'gad', 'phq', 'surgery_1yr',\n",
       "       'pain_severity', 'pain_vas', 'pain_description_length', 'bmi',\n",
       "       'bio_length', 'reasons_length', 'imagine_free_length',\n",
       "       'reason_limited_time', 'reason_family_obligations',\n",
       "       'reason_work_obligations', 'reason_other', 'inbound_os_messages_all',\n",
       "       'inbound_coach_messages_all', 'length_messages',\n",
       "       'transferred_to_coach_day', 'first_et_day', 'acceptance_days_ago',\n",
       "       'back', 'hip', 'knee', 'neck', 'shoulder', 'Y'],\n",
       "      dtype='object')"
      ]
     },
     "execution_count": 284,
     "metadata": {},
     "output_type": "execute_result"
    }
   ],
   "source": [
    "df2.columns"
   ]
  },
  {
   "cell_type": "code",
   "execution_count": 285,
   "metadata": {},
   "outputs": [
    {
     "data": {
      "text/plain": [
       "(52092, 31)"
      ]
     },
     "execution_count": 285,
     "metadata": {},
     "output_type": "execute_result"
    }
   ],
   "source": [
    "df2.shape"
   ]
  },
  {
   "cell_type": "markdown",
   "metadata": {},
   "source": [
    "## "
   ]
  },
  {
   "cell_type": "code",
   "execution_count": 286,
   "metadata": {},
   "outputs": [],
   "source": [
    "import numpy as np\n",
    "import matplotlib.pyplot as plt\n",
    "import pandas as pd\n",
    "import sklearn"
   ]
  },
  {
   "cell_type": "code",
   "execution_count": 287,
   "metadata": {},
   "outputs": [],
   "source": [
    "X = df2.iloc[:, 0:-1].values\n",
    "y = df2.iloc[:, -1].values"
   ]
  },
  {
   "cell_type": "code",
   "execution_count": 288,
   "metadata": {},
   "outputs": [
    {
     "data": {
      "text/plain": [
       "(52092, 30)"
      ]
     },
     "execution_count": 288,
     "metadata": {},
     "output_type": "execute_result"
    }
   ],
   "source": [
    "X.shape"
   ]
  },
  {
   "cell_type": "code",
   "execution_count": 289,
   "metadata": {},
   "outputs": [
    {
     "data": {
      "text/plain": [
       "(52092,)"
      ]
     },
     "execution_count": 289,
     "metadata": {},
     "output_type": "execute_result"
    }
   ],
   "source": [
    "y.shape"
   ]
  },
  {
   "cell_type": "code",
   "execution_count": 290,
   "metadata": {},
   "outputs": [],
   "source": [
    "from sklearn.model_selection import train_test_split\n",
    "X_train, X_test, y_train, y_test = train_test_split(X, y, test_size = 0.20, random_state = 0)\n"
   ]
  },
  {
   "cell_type": "code",
   "execution_count": 291,
   "metadata": {},
   "outputs": [
    {
     "data": {
      "text/plain": [
       "GaussianNB(priors=None, var_smoothing=1e-09)"
      ]
     },
     "execution_count": 291,
     "metadata": {},
     "output_type": "execute_result"
    }
   ],
   "source": [
    "from sklearn.naive_bayes import GaussianNB\n",
    "classifier = GaussianNB()\n",
    "classifier.fit(X_train, y_train)"
   ]
  },
  {
   "cell_type": "code",
   "execution_count": 292,
   "metadata": {},
   "outputs": [],
   "source": [
    "y_pred  =  classifier.predict(X_test)"
   ]
  },
  {
   "cell_type": "code",
   "execution_count": 293,
   "metadata": {},
   "outputs": [
    {
     "name": "stdout",
     "output_type": "stream",
     "text": [
      "Number of mislabeled points out of a total 10419 points : 885\n"
     ]
    }
   ],
   "source": [
    "print(\"Number of mislabeled points out of a total %d points : %d\" %(X_test.shape[0], (y_test != y_pred).sum()))"
   ]
  },
  {
   "cell_type": "code",
   "execution_count": 294,
   "metadata": {},
   "outputs": [
    {
     "data": {
      "text/plain": [
       "array([[7243,  588],\n",
       "       [ 297, 2291]])"
      ]
     },
     "execution_count": 294,
     "metadata": {},
     "output_type": "execute_result"
    }
   ],
   "source": [
    "from sklearn.metrics import confusion_matrix,accuracy_score\n",
    "confusion_matrix(y_test, y_pred)\n"
   ]
  },
  {
   "cell_type": "code",
   "execution_count": 295,
   "metadata": {},
   "outputs": [
    {
     "data": {
      "text/plain": [
       "0.9150590267780018"
      ]
     },
     "execution_count": 295,
     "metadata": {},
     "output_type": "execute_result"
    }
   ],
   "source": [
    "accuracy_score(y_test,y_pred)"
   ]
  },
  {
   "cell_type": "code",
   "execution_count": 296,
   "metadata": {},
   "outputs": [
    {
     "data": {
      "text/plain": [
       "(10419, 2)"
      ]
     },
     "execution_count": 296,
     "metadata": {},
     "output_type": "execute_result"
    }
   ],
   "source": [
    "# how many mid tier were classified correctly / wrongly\n",
    "results = pd.DataFrame()\n",
    "results['pred'] = y_pred\n",
    "results['actual'] = y_test\n",
    "results.shape"
   ]
  },
  {
   "cell_type": "code",
   "execution_count": 297,
   "metadata": {},
   "outputs": [
    {
     "data": {
      "text/plain": [
       "0.0    7831\n",
       "1.0    2588\n",
       "Name: actual, dtype: int64"
      ]
     },
     "execution_count": 297,
     "metadata": {},
     "output_type": "execute_result"
    }
   ],
   "source": [
    "results['actual'].value_counts()"
   ]
  },
  {
   "cell_type": "code",
   "execution_count": 298,
   "metadata": {},
   "outputs": [
    {
     "data": {
      "text/plain": [
       "(2588, 2)"
      ]
     },
     "execution_count": 298,
     "metadata": {},
     "output_type": "execute_result"
    }
   ],
   "source": [
    "results = results[results['actual'] == 1.0]\n",
    "results.shape"
   ]
  },
  {
   "cell_type": "code",
   "execution_count": 299,
   "metadata": {},
   "outputs": [
    {
     "data": {
      "text/plain": [
       "1.0    2291\n",
       "0.0     297\n",
       "Name: pred, dtype: int64"
      ]
     },
     "execution_count": 299,
     "metadata": {},
     "output_type": "execute_result"
    }
   ],
   "source": [
    "results['pred'].value_counts()"
   ]
  },
  {
   "cell_type": "code",
   "execution_count": null,
   "metadata": {},
   "outputs": [],
   "source": []
  }
 ],
 "metadata": {
  "instance_type": "ml.t3.medium",
  "kernelspec": {
   "display_name": "Python 3 (Data Science)",
   "language": "python",
   "name": "python3__SAGEMAKER_INTERNAL__arn:aws:sagemaker:us-west-1:742091327244:image/datascience-1.0"
  },
  "language_info": {
   "codemirror_mode": {
    "name": "ipython",
    "version": 3
   },
   "file_extension": ".py",
   "mimetype": "text/x-python",
   "name": "python",
   "nbconvert_exporter": "python",
   "pygments_lexer": "ipython3",
   "version": "3.7.10"
  }
 },
 "nbformat": 4,
 "nbformat_minor": 4
}
