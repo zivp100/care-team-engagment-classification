{
 "cells": [
  {
   "cell_type": "markdown",
   "metadata": {},
   "source": [
    "# Care Team Engagment Prediction - Data preprocessing"
   ]
  },
  {
   "cell_type": "markdown",
   "metadata": {},
   "source": [
    "This notebook includes the following steps:\n",
    "<ul>\n",
    "<li> Setup\n",
    "<li> Read data file </li>\n",
    "<li> Process data file </li>\n",
    "<li> Remove nulls </li>\n",
    "<li> Define Y </li>\n",
    "</ul>"
   ]
  },
  {
   "cell_type": "markdown",
   "metadata": {},
   "source": [
    "### 0. Setup"
   ]
  },
  {
   "cell_type": "code",
   "execution_count": 598,
   "metadata": {},
   "outputs": [],
   "source": [
    "import numpy as np\n",
    "import pandas as pd\n",
    "import matplotlib.pyplot as plt\n",
    "\n",
    "\n",
    "import sklearn\n",
    "from sklearn import preprocessing\n",
    "from sklearn.model_selection import train_test_split"
   ]
  },
  {
   "cell_type": "code",
   "execution_count": 599,
   "metadata": {},
   "outputs": [],
   "source": [
    "%matplotlib inline"
   ]
  },
  {
   "cell_type": "markdown",
   "metadata": {},
   "source": [
    "### 1. Read data file (locally or from S3) "
   ]
  },
  {
   "cell_type": "code",
   "execution_count": 600,
   "metadata": {},
   "outputs": [],
   "source": [
    "# Read local data file\n",
    "df1 = pd.read_csv('data15.csv')"
   ]
  },
  {
   "cell_type": "markdown",
   "metadata": {},
   "source": [
    "### 2. Process Input file"
   ]
  },
  {
   "cell_type": "code",
   "execution_count": 601,
   "metadata": {},
   "outputs": [
    {
     "data": {
      "text/plain": [
       "(73619, 49)"
      ]
     },
     "execution_count": 601,
     "metadata": {},
     "output_type": "execute_result"
    }
   ],
   "source": [
    "df1.shape"
   ]
  },
  {
   "cell_type": "code",
   "execution_count": 602,
   "metadata": {},
   "outputs": [
    {
     "data": {
      "text/plain": [
       "Index(['days_to_first_et', 'days_to_coach', 'days_to_kit', 'acceptance_month',\n",
       "       'indication', 'gender', 'user_age', 'bio_length', 'reasons_length',\n",
       "       'imagine_free_length', 'reason_limited_time',\n",
       "       'reason_family_obligations', 'reason_work_obligations', 'reason_other',\n",
       "       'pain_severity', 'pain_vas', 'pain_description_length', 'weight', 'bmi',\n",
       "       'gad', 'phq', 'is_sedentary', 'is_overweight', 'is_passive_coping',\n",
       "       'is_catastrophizing', 'hours_to_complete_aq', 'conversations',\n",
       "       'user_initiated_conv', 'hh_initiated_conv',\n",
       "       'inbound_coach_messages_1_week', 'inbound_member_messages_1_week',\n",
       "       'inbound_coach_messages_length_1_week',\n",
       "       'inbound_coach_messages_4_weeks', 'conversation_density',\n",
       "       'week_1_words', 'night_messages', 'morning_messages',\n",
       "       'afternoon_messages', 'evening_message', 'count_text_msg_from_coach',\n",
       "       'days_to_first_text_msg_from_user', 'days_to_first_text_msg_from_coach',\n",
       "       'count_opr_msg_from_coach', 'is_repeat', 'region', 'client_industry',\n",
       "       'first_et_before_coach', 'first_user_msg_before_coach',\n",
       "       'kit_arrival_before_coach'],\n",
       "      dtype='object')"
      ]
     },
     "execution_count": 602,
     "metadata": {},
     "output_type": "execute_result"
    }
   ],
   "source": [
    "df1.columns"
   ]
  },
  {
   "cell_type": "markdown",
   "metadata": {},
   "source": [
    "## Categorical Features"
   ]
  },
  {
   "cell_type": "code",
   "execution_count": 603,
   "metadata": {},
   "outputs": [],
   "source": [
    "# Replace indication with dummy variables\n",
    "indication_dummies = pd.get_dummies(df1['indication'])\n",
    "df1 = pd.concat([df1, indication_dummies], axis=1)      \n",
    "df1 = df1.drop(['indication'], axis=1)"
   ]
  },
  {
   "cell_type": "code",
   "execution_count": 604,
   "metadata": {},
   "outputs": [],
   "source": [
    "age_dummies = pd.get_dummies(df1['gender'])\n",
    "df1 = pd.concat([df1, age_dummies], axis=1)      \n",
    "df1 = df1.drop(['gender'], axis=1)"
   ]
  },
  {
   "cell_type": "code",
   "execution_count": 605,
   "metadata": {},
   "outputs": [],
   "source": [
    "df1['region'].fillna('None', inplace=True)\n",
    "region_dummies = pd.get_dummies(df1['region'])\n",
    "df1 = pd.concat([df1, region_dummies], axis=1)      \n",
    "df1 = df1.drop(['region'], axis=1)"
   ]
  },
  {
   "cell_type": "code",
   "execution_count": 606,
   "metadata": {},
   "outputs": [],
   "source": [
    "client_industry = pd.get_dummies(df1['client_industry'])\n",
    "df1 = pd.concat([df1, client_industry], axis=1)      \n",
    "df1 = df1.drop(['client_industry'], axis=1)"
   ]
  },
  {
   "cell_type": "markdown",
   "metadata": {},
   "source": [
    "### 3. Remove null values"
   ]
  },
  {
   "cell_type": "code",
   "execution_count": 607,
   "metadata": {},
   "outputs": [
    {
     "name": "stdout",
     "output_type": "stream",
     "text": [
      "days_to_first_et                  1125\n",
      "days_to_coach                        0\n",
      "days_to_kit                       1132\n",
      "acceptance_month                     0\n",
      "user_age                             0\n",
      "                                  ... \n",
      "Retail                               0\n",
      "Transportation and Warehousing       0\n",
      "Unkown                               0\n",
      "Utilities                            0\n",
      "Wholesale                            0\n",
      "Length: 85, dtype: int64\n"
     ]
    }
   ],
   "source": [
    "print(df1.isnull().sum()) # found no missing values in the data"
   ]
  },
  {
   "cell_type": "code",
   "execution_count": 608,
   "metadata": {},
   "outputs": [],
   "source": [
    "# Remove members with transferred_to_coach_day = null\n",
    "df1 = df1[df1['days_to_coach'].notna()]"
   ]
  },
  {
   "cell_type": "code",
   "execution_count": 609,
   "metadata": {},
   "outputs": [],
   "source": [
    "df1 = df1[df1['days_to_first_et'].notna()]"
   ]
  },
  {
   "cell_type": "code",
   "execution_count": 610,
   "metadata": {},
   "outputs": [],
   "source": [
    "# if pain_severity or pain_vas is null -> 0\n",
    "df1['pain_severity'].fillna(0, inplace=True)\n",
    "df1['pain_vas'].fillna(0, inplace=True)\n",
    "df1['gad'].fillna(0, inplace=True)\n",
    "df1['phq'].fillna(0, inplace=True)\n",
    "df1['conversation_density'].fillna(0, inplace=True)"
   ]
  },
  {
   "cell_type": "code",
   "execution_count": 611,
   "metadata": {},
   "outputs": [],
   "source": [
    "# but average BMI where BMI is null\n",
    "df1['bmi'].fillna((df1['bmi'].mean()), inplace=True)\n",
    "df1['hours_to_complete_aq'].fillna((df1['hours_to_complete_aq'].mean()), inplace=True)\n",
    "df1['weight'].fillna((df1['hours_to_complete_aq'].mean()), inplace=True)"
   ]
  },
  {
   "cell_type": "code",
   "execution_count": 612,
   "metadata": {},
   "outputs": [],
   "source": [
    "df1['days_to_kit'].fillna(99, inplace=True)\n",
    "\n"
   ]
  },
  {
   "cell_type": "code",
   "execution_count": 613,
   "metadata": {},
   "outputs": [],
   "source": [
    "df1['night_messages'].fillna(0, inplace=True)\n",
    "df1['morning_messages'].fillna(0, inplace=True)\n",
    "df1['afternoon_messages'].fillna(0, inplace=True)\n",
    "df1['evening_message'].fillna(0, inplace=True)\n",
    "\n",
    "df1['week_1_words'].fillna(0, inplace=True)\n"
   ]
  },
  {
   "cell_type": "code",
   "execution_count": 614,
   "metadata": {},
   "outputs": [],
   "source": [
    "df1 = df1[df1['conversations'].notna()]"
   ]
  },
  {
   "cell_type": "code",
   "execution_count": 615,
   "metadata": {},
   "outputs": [
    {
     "data": {
      "text/plain": [
       "[]"
      ]
     },
     "execution_count": 615,
     "metadata": {},
     "output_type": "execute_result"
    }
   ],
   "source": [
    "df1.columns[df1.isna().any()].tolist()"
   ]
  },
  {
   "cell_type": "code",
   "execution_count": 616,
   "metadata": {},
   "outputs": [],
   "source": [
    "#print(df1.isnull().sum()) # found no missing values in the data"
   ]
  },
  {
   "cell_type": "markdown",
   "metadata": {},
   "source": [
    "## refine variables"
   ]
  },
  {
   "cell_type": "code",
   "execution_count": 617,
   "metadata": {},
   "outputs": [],
   "source": [
    "df1['days_to_kit'] = df1['days_to_kit'].clip(lower=0)"
   ]
  },
  {
   "cell_type": "raw",
   "metadata": {},
   "source": [
    "#BMI \n",
    "#below 18.5 – you're in the underweight range\n",
    "#between 18.5 and 24.9 – you're in the healthy weight range\n",
    "#between 25 and 29.9 – you're in the overweight range\n",
    "#between 30 and 39.9 – you're in the obese range\n",
    "df1['bmi_underweight'] =  (df1['bmi'] < 18.5).astype(int)\n",
    "df1['bmi_healthy']     = ((df1['bmi'] >= 18.5) & (df1['bmi'] < 25)).astype(int)\n",
    "df1['bmi_overweight']  = ((df1['bmi'] >= 25) & (df1['bmi'] < 30)).astype(int)\n",
    "df1['bmi_obese']       =  (df1['bmi'] > 30).astype(int)\n",
    "df1 = df1.drop(['bmi'], axis=1)"
   ]
  },
  {
   "cell_type": "code",
   "execution_count": 618,
   "metadata": {},
   "outputs": [],
   "source": [
    "\n",
    "# Define target column\n",
    "# See analysis below showed the 20% of customer = 9 or more messages\n",
    "df1['Y'] = (df1['inbound_coach_messages_4_weeks']).astype(int)\n",
    "df1 = df1.drop(['inbound_coach_messages_4_weeks'], axis=1)\n",
    "\n",
    "df1.to_csv('regressionData1.csv', index=False)\n"
   ]
  },
  {
   "cell_type": "markdown",
   "metadata": {},
   "source": [
    "### 4. Define Y"
   ]
  },
  {
   "cell_type": "code",
   "execution_count": 619,
   "metadata": {},
   "outputs": [],
   "source": [
    "limit = 7\n",
    "\n",
    "# Define target column\n",
    "# See analysis below showed the 20% of customer = 9 or more messages\n",
    "df1['Y'] = (df1['Y'] > limit).astype(int)\n",
    "\n",
    "# Save cleaned data for future use\n",
    "df1.to_csv('classificationData1.csv', index=False)\n"
   ]
  },
  {
   "cell_type": "code",
   "execution_count": null,
   "metadata": {},
   "outputs": [],
   "source": []
  },
  {
   "cell_type": "markdown",
   "metadata": {},
   "source": [
    "# ----------------------------------------------------------------"
   ]
  },
  {
   "cell_type": "markdown",
   "metadata": {},
   "source": [
    "## Make all Varibales binary"
   ]
  },
  {
   "cell_type": "code",
   "execution_count": 620,
   "metadata": {},
   "outputs": [],
   "source": [
    "temp_age = pd.qcut(df1['user_age'], 10, #retbins=True,\n",
    "                  labels = ['age_0','age_1','age_2','age_3','age_4','age_5','age_6','age_7','age_8','age_9'])\n",
    "age_dummies = pd.get_dummies(temp_age)\n",
    "df1 = pd.concat([df1, age_dummies], axis=1)      \n",
    "df1 = df1.drop(['user_age'], axis=1)"
   ]
  },
  {
   "cell_type": "code",
   "execution_count": 621,
   "metadata": {},
   "outputs": [],
   "source": [
    "##df1['bio_length_0'] = (df1['bio_length'] == 0).astype(int)\n",
    "##temp_bio_length = pd.cut(df1['bio_length'], bins=5, labels = ['bio_length_1', 'bio_length_2', 'bio_length_3', 'bio_length_4', 'bio_length_5'])\n",
    "##bio_dummies = pd.get_dummies(temp_bio_length)\n",
    "##df1 = pd.concat([df1, bio_dummies], axis=1) \n",
    "##df1 = df1.drop(['bio_length'], axis=1)\n",
    "\n",
    "\n",
    "df1['bio_length_0'] = (df1['bio_length'] <= 5).astype(int)\n",
    "df1['bio_length_1'] = ((df1['bio_length'] > 5) & (df1['bio_length'] <= 10)).astype(int)\n",
    "df1['bio_length_2'] = ((df1['bio_length'] > 10) & (df1['bio_length'] <= 15)).astype(int)\n",
    "df1['bio_length_3'] = ((df1['bio_length'] > 15) & (df1['bio_length'] <= 20)).astype(int)\n",
    "df1['bio_length_4'] = ((df1['bio_length'] > 20) & (df1['bio_length'] <= 25)).astype(int)\n",
    "df1['bio_length_5'] = ((df1['bio_length'] > 25) & (df1['bio_length'] <= 30)).astype(int)\n",
    "df1['bio_length_6'] = ((df1['bio_length'] > 30) & (df1['bio_length'] <= 35)).astype(int)\n",
    "df1['bio_length_7'] = ((df1['bio_length'] > 35) & (df1['bio_length'] <= 40)).astype(int)\n",
    "df1['bio_length_8'] = ((df1['bio_length'] > 40) & (df1['bio_length'] <= 50)).astype(int)\n",
    "df1['bio_length_9'] = (df1['bio_length'] > 50).astype(int)\n",
    "df1 = df1.drop(['bio_length'], axis=1)\n"
   ]
  },
  {
   "cell_type": "code",
   "execution_count": 622,
   "metadata": {},
   "outputs": [],
   "source": [
    "#df1['reasons_length_0'] = (df1['reasons_length'] == 0).astype(int)\n",
    "#temp_bio_length = pd.cut(df1['reasons_length'], bins=5, labels = ['reasons_length_1', 'reasons_length_2', 'reasons_length_3', 'reasons_length_4', 'reasons_length_5'])\n",
    "#bio_dummies = pd.get_dummies(temp_bio_length)\n",
    "#df1 = pd.concat([df1, bio_dummies], axis=1) \n",
    "\n",
    "\n",
    "df1['reasons_length_0'] = (df1['reasons_length'] <= 10).astype(int)\n",
    "df1['reasons_length_1'] = ((df1['reasons_length'] > 10) & (df1['reasons_length'] <= 20)).astype(int)\n",
    "df1['reasons_length_2'] = ((df1['reasons_length'] > 20) & (df1['reasons_length'] <= 30)).astype(int)\n",
    "df1['reasons_length_3'] = ((df1['reasons_length'] > 30) & (df1['reasons_length'] <= 40)).astype(int)\n",
    "df1['reasons_length_4'] = ((df1['reasons_length'] > 40) & (df1['reasons_length'] <= 80)).astype(int)\n",
    "df1['reasons_length_5'] = (df1['reasons_length'] > 80).astype(int)\n",
    "\n",
    "\n",
    "df1 = df1.drop(['reasons_length'], axis=1)"
   ]
  },
  {
   "cell_type": "code",
   "execution_count": 623,
   "metadata": {},
   "outputs": [],
   "source": [
    "'''\n",
    "df1['imagine_free_length_0'] = (df1['imagine_free_length'] == 0).astype(int)\n",
    "temp_bio_length = pd.qcut(df1['imagine_free_length'], 5, labels = ['imagine_free_length_1', 'imagine_free_length_2', 'imagine_free_length_3', 'imagine_free_length_4', 'imagine_free_length_5'])\n",
    "bio_dummies = pd.get_dummies(temp_bio_length)\n",
    "df1 = pd.concat([df1, bio_dummies], axis=1) \n",
    "\n",
    "'''\n",
    "df1['imagine_length_0'] = (df1['imagine_free_length'] <= 5).astype(int)\n",
    "df1['imagine_length_1'] = ((df1['imagine_free_length'] > 5) & (df1['imagine_free_length'] <= 10)).astype(int)\n",
    "df1['imagine_length_2'] = ((df1['imagine_free_length'] > 10) & (df1['imagine_free_length'] <= 20)).astype(int)\n",
    "df1['imagine_length_3'] = ((df1['imagine_free_length'] > 20) & (df1['imagine_free_length'] <= 40)).astype(int)\n",
    "df1['imagine_length_4'] = ((df1['imagine_free_length'] > 40) & (df1['imagine_free_length'] <= 80)).astype(int)\n",
    "df1['imagine_length_5'] = (df1['imagine_free_length'] > 80).astype(int)\n",
    "\n",
    "\n",
    "df1 = df1.drop(['imagine_free_length'], axis=1)"
   ]
  },
  {
   "cell_type": "code",
   "execution_count": null,
   "metadata": {},
   "outputs": [],
   "source": []
  },
  {
   "cell_type": "code",
   "execution_count": null,
   "metadata": {},
   "outputs": [],
   "source": []
  },
  {
   "cell_type": "code",
   "execution_count": 624,
   "metadata": {},
   "outputs": [],
   "source": [
    "#df1['pain_length_0'] = (df1['pain_description_length'] == 0).astype(int)\n",
    "#temp_bio_length = pd.cut(df1['pain_description_length'], bins=5, labels = ['pain_length_1', 'pain_length_2', 'pain_length_3', 'pain_length_4', 'pain_length_5'])\n",
    "#bio_dummies = pd.get_dummies(temp_bio_length)\n",
    "#df1 = pd.concat([df1, bio_dummies], axis=1) \n",
    "\n",
    "\n",
    "df1['pain_length_0'] = (df1['pain_description_length'] <= 10).astype(int)\n",
    "df1['pain_length_1'] = ((df1['pain_description_length'] > 10) & (df1['pain_description_length'] <= 30)).astype(int)\n",
    "df1['pain_length_2'] = ((df1['pain_description_length'] > 30) & (df1['pain_description_length'] <= 60)).astype(int)\n",
    "df1['pain_length_3'] = ((df1['pain_description_length'] > 60) & (df1['pain_description_length'] <= 90)).astype(int)\n",
    "df1['pain_length_4'] = ((df1['pain_description_length'] > 90) & (df1['pain_description_length'] <= 120)).astype(int)\n",
    "df1['pain_length_5'] = (df1['pain_description_length'] > 120).astype(int)\n",
    "\n",
    "\n",
    "df1 = df1.drop(['pain_description_length'], axis=1)"
   ]
  },
  {
   "cell_type": "code",
   "execution_count": 625,
   "metadata": {},
   "outputs": [],
   "source": [
    "df1['inbound_coach_length_0'] = (df1['inbound_coach_messages_length_1_week'] == 0).astype(int)\n",
    "#temp_bio_length = pd.cut(df1['inbound_coach_messages_length_1_week'], bins=5, labels = ['inbound_coach_length_1', 'inbound_coach_length_2', 'inbound_coach_length_3', 'inbound_coach_length_4', 'inbound_coach_length_5'])\n",
    "#bio_dummies = pd.get_dummies(temp_bio_length)\n",
    "#df1 = pd.concat([df1, bio_dummies], axis=1) \n",
    "df1 = df1.drop(['inbound_coach_messages_length_1_week'], axis=1)"
   ]
  },
  {
   "cell_type": "code",
   "execution_count": 626,
   "metadata": {},
   "outputs": [],
   "source": [
    "df1['inbound_coach_msg_0'] = (df1['inbound_coach_messages_1_week'] == 0).astype(int)\n",
    "#temp_bio_length = pd.cut(df1['inbound_coach_messages_1_week'], bins=5, \n",
    "#                         labels = ['inbound_coach_msg_1', 'inbound_coach_msg_2', 'inbound_coach_msg_3', 'inbound_coach_msg_4', 'inbound_coach_msg_5'])\n",
    "#bio_dummies = pd.get_dummies(temp_bio_length)\n",
    "#df1 = pd.concat([df1, bio_dummies], axis=1) \n",
    "df1 = df1.drop(['inbound_coach_messages_1_week'], axis=1)"
   ]
  },
  {
   "cell_type": "code",
   "execution_count": 627,
   "metadata": {},
   "outputs": [],
   "source": [
    "df1['inbound_member_msg_0'] = (df1['inbound_member_messages_1_week'] == 0).astype(int)\n",
    "df1['inbound_member_msg_1'] = (df1['inbound_member_messages_1_week'] == 1).astype(int)\n",
    "df1['inbound_member_msg_2'] = (df1['inbound_member_messages_1_week'] == 2).astype(int)\n",
    "df1['inbound_member_msg_3'] = (df1['inbound_member_messages_1_week'] == 3).astype(int)\n",
    "df1['inbound_member_msg_4'] = (df1['inbound_member_messages_1_week'] == 4).astype(int)\n",
    "df1['inbound_member_msg_5'] = (df1['inbound_member_messages_1_week'] == 5).astype(int)\n",
    "df1['inbound_member_msg_6'] = (df1['inbound_member_messages_1_week'] == 6).astype(int)\n",
    "df1['inbound_member_msg_7'] = (df1['inbound_member_messages_1_week'] == 7).astype(int)\n",
    "df1['inbound_member_msg_8'] = (df1['inbound_member_messages_1_week'] == 8).astype(int)\n",
    "df1['inbound_member_msg_9'] = (df1['inbound_member_messages_1_week'] == 9).astype(int)\n",
    "df1['inbound_member_msg_10'] = (df1['inbound_member_messages_1_week'] == 10).astype(int)\n",
    "df1['inbound_member_msg_11'] = (df1['inbound_member_messages_1_week'] == 11 ).astype(int)\n",
    "df1['inbound_member_msg_12'] = (df1['inbound_member_messages_1_week'] > 11 ).astype(int)\n",
    "\n",
    "\n",
    "\n",
    "#temp_bio_length = pd.qcut(df1['inbound_member_messages_1_week'], 5, \n",
    "#                         labels = ['inbound_member_msg_1', 'inbound_memebr_msg_2', 'inbound_member_msg_3', 'inbound_member_msg_4', 'inbound_member_msg_5'])\n",
    "#bio_dummies = pd.get_dummies(temp_bio_length)\n",
    "#df1 = pd.concat([df1, bio_dummies], axis=1) \n",
    "df1 = df1.drop(['inbound_member_messages_1_week'], axis=1)"
   ]
  },
  {
   "cell_type": "code",
   "execution_count": 628,
   "metadata": {},
   "outputs": [],
   "source": [
    "df1 = df1.drop(['transferred_to_coach_at'], axis=1, errors='ignore')"
   ]
  },
  {
   "cell_type": "code",
   "execution_count": 629,
   "metadata": {},
   "outputs": [],
   "source": [
    "temp_bio_length = pd.qcut(df1['bmi'], 5, labels = ['bmi_1', 'bmi_2', 'bmi_3', 'bmi_4', 'bmi_5'])\n",
    "bio_dummies = pd.get_dummies(temp_bio_length)\n",
    "df1 = pd.concat([df1, bio_dummies], axis=1) \n",
    "df1 = df1.drop(['bmi'], axis=1)"
   ]
  },
  {
   "cell_type": "code",
   "execution_count": 630,
   "metadata": {},
   "outputs": [],
   "source": [
    "df1['gad_0'] = (df1['gad'] == 0).astype(int) \n",
    "#temp_bio_length = pd.qcut(df1['gad'], 5, labels = ['gad_1', 'gad_2', 'gad_3', 'gad_4', 'gad_5'])\n",
    "#bio_dummies = pd.get_dummies(temp_bio_length)\n",
    "#df1 = pd.concat([df1, bio_dummies], axis=1) \n",
    "df1 = df1.drop(['gad'], axis=1)"
   ]
  },
  {
   "cell_type": "code",
   "execution_count": 631,
   "metadata": {},
   "outputs": [],
   "source": [
    "df1['phq_0'] = (df1['phq'] == 0).astype(int) \n",
    "#temp_bio_length = pd.qcut(df1['phq'], 5, labels = ['phq_1', 'phq_2', 'phq_3', 'phq_4', 'phq_5'])\n",
    "#bio_dummies = pd.get_dummies(temp_bio_length)\n",
    "#df1 = pd.concat([df1, bio_dummies], axis=1) \n",
    "df1 = df1.drop(['phq'], axis=1)"
   ]
  },
  {
   "cell_type": "code",
   "execution_count": 632,
   "metadata": {},
   "outputs": [],
   "source": [
    "df1['user_initiated_conv_0'] = (df1['user_initiated_conv'] == 0).astype(int) \n",
    "df1 = df1.drop(['user_initiated_conv'], axis=1)\n",
    "\n",
    "df1 = df1.drop(['hh_initiated_conv'], axis=1)"
   ]
  },
  {
   "cell_type": "code",
   "execution_count": 633,
   "metadata": {},
   "outputs": [],
   "source": [
    "temp_bio_length = pd.qcut(df1['pain_vas'], 5, labels = ['vas_1', 'vas_2', 'vas_3', 'vas_4', 'vas_5'])\n",
    "bio_dummies = pd.get_dummies(temp_bio_length)\n",
    "df1 = pd.concat([df1, bio_dummies], axis=1) \n",
    "df1 = df1.drop(['pain_vas'], axis=1)"
   ]
  },
  {
   "cell_type": "code",
   "execution_count": 634,
   "metadata": {},
   "outputs": [],
   "source": [
    "df1['pain_0'] = (df1['pain_severity'] == 0).astype(int)\n",
    "df1['pain_1'] = ((df1['pain_severity'] > 0) & (df1['pain_severity'] <= 2)).astype(int)\n",
    "df1['pain_2'] = ((df1['pain_severity'] > 2) & (df1['pain_severity'] <= 4)).astype(int)\n",
    "df1['pain_3'] = ((df1['pain_severity'] > 4) & (df1['pain_severity'] <= 7)).astype(int)\n",
    "df1['pain_4'] = (df1['pain_severity'] > 7).astype(int)\n",
    "\n",
    "\n",
    "'''\n",
    "temp_bio_length = pd.cut(df1['pain_severity'], bins=5, labels = ['pain_1', 'pain_2', 'pain_3', 'pain_4', 'pain_5'])\n",
    "bio_dummies = pd.get_dummies(temp_bio_length)\n",
    "df1 = pd.concat([df1, bio_dummies], axis=1) \n",
    "'''\n",
    "df1 = df1.drop(['pain_severity'], axis=1)"
   ]
  },
  {
   "cell_type": "code",
   "execution_count": 635,
   "metadata": {},
   "outputs": [],
   "source": [
    "#temp_bio_length = pd.cut(df1['days_since_acceptance'], bins=5, labels = ['accept_day_1', 'accept_day_2', 'accept_day_3', 'accept_day_4', 'accept_day_5'])\n",
    "#bio_dummies = pd.get_dummies(temp_bio_length)\n",
    "#df1 = pd.concat([df1, bio_dummies], axis=1) \n",
    "#df1 = df1.drop(['days_since_acceptance'], axis=1)"
   ]
  },
  {
   "cell_type": "code",
   "execution_count": 636,
   "metadata": {},
   "outputs": [],
   "source": [
    "temp_bio_length = pd.qcut(df1['days_to_first_et'], 10, \n",
    "                          labels = ['first_et_1', 'first_et_2', 'first_et_3', 'first_et_4', 'first_et_5',\n",
    "                                    'first_et_6', 'first_et_7', 'first_et_8', 'first_et_9', 'first_et_10'])\n",
    "bio_dummies = pd.get_dummies(temp_bio_length)\n",
    "df1 = pd.concat([df1, bio_dummies], axis=1) \n",
    "df1 = df1.drop(['days_to_first_et'], axis=1)"
   ]
  },
  {
   "cell_type": "code",
   "execution_count": 637,
   "metadata": {},
   "outputs": [],
   "source": [
    "# Is_sedentary, is_overweight, is_passive_coping, is_catastrophizing\n",
    "# is_repeat"
   ]
  },
  {
   "cell_type": "raw",
   "metadata": {},
   "source": [
    "df1['region_1'] = (df1['region'] == 'South Atlantic').astype(int)\n",
    "df1['region_2'] = (df1['region'] == 'West South Central').astype(int)\n",
    "df1['region_3'] = (df1['region'] == 'East North Central').astype(int)\n",
    "df1['region_4'] = (df1['region'] == 'Pacific').astype(int)\n",
    "df1['region_5'] = (df1['region'] == 'Middle Atlantic').astype(int)\n",
    "df1['region_6'] = (df1['region'] == 'East South Central').astype(int)\n",
    "df1['region_7'] = (df1['region'] == 'Mountain').astype(int)\n",
    "df1['region_8'] = (df1['region'] == 'West North Central').astype(int)\n",
    "df1['region_9'] = (df1['region'] == 'New England').astype(int)\n",
    "df1['region_10'] = (df1['region'] == 'None').astype(int)\n",
    "df1 = df1.drop(['region'], axis=1)"
   ]
  },
  {
   "cell_type": "code",
   "execution_count": 638,
   "metadata": {},
   "outputs": [],
   "source": [
    "# Ignore region for now\n"
   ]
  },
  {
   "cell_type": "code",
   "execution_count": 639,
   "metadata": {},
   "outputs": [],
   "source": [
    "df1['accept_month_1'] = (df1['acceptance_month'] == 1).astype(int)\n",
    "df1['accept_month_2'] = (df1['acceptance_month'] == 2).astype(int)\n",
    "df1['accept_month_3'] = (df1['acceptance_month'] == 3).astype(int)\n",
    "df1['accept_month_4'] = (df1['acceptance_month'] == 4).astype(int)\n",
    "df1['accept_month_5'] = (df1['acceptance_month'] == 5).astype(int)\n",
    "df1['accept_month_6'] = (df1['acceptance_month'] == 6).astype(int)\n",
    "df1['accept_month_7'] = (df1['acceptance_month'] == 7).astype(int)\n",
    "df1['accept_month_8'] = (df1['acceptance_month'] == 8).astype(int)\n",
    "df1['accept_month_9'] = (df1['acceptance_month'] == 9).astype(int)\n",
    "df1['accept_month_10'] = (df1['acceptance_month'] == 10).astype(int)\n",
    "df1['accept_month_11'] = (df1['acceptance_month'] == 11).astype(int)\n",
    "df1['accept_month_12'] = (df1['acceptance_month'] == 12).astype(int)\n",
    "df1 = df1.drop(['acceptance_month'], axis=1)"
   ]
  },
  {
   "cell_type": "code",
   "execution_count": 640,
   "metadata": {},
   "outputs": [],
   "source": [
    "df1['hours_to_complete_aq_0'] = (df1['hours_to_complete_aq'] == 0).astype(int)\n",
    "df1 = df1.drop(['hours_to_complete_aq'], axis=1)"
   ]
  },
  {
   "cell_type": "code",
   "execution_count": null,
   "metadata": {},
   "outputs": [],
   "source": [
    "\n"
   ]
  },
  {
   "cell_type": "markdown",
   "metadata": {},
   "source": [
    "# "
   ]
  },
  {
   "cell_type": "code",
   "execution_count": 641,
   "metadata": {},
   "outputs": [],
   "source": [
    "days = pd.qcut(df1['days_to_coach'], 10, \n",
    "               labels = ['days_to_coach_1', 'days_to_coach_2', 'days_to_coach_3', 'days_to_coach_4', 'days_to_coach_5',\n",
    "                         'days_to_coach_6', 'days_to_coach_7', 'days_to_coach_8', 'days_to_coach_9', 'days_to_coach_10'])\n",
    "bio_dummies = pd.get_dummies(days)\n",
    "df1 = pd.concat([df1, bio_dummies], axis=1) \n",
    "df1 = df1.drop(['days_to_coach'], axis=1)\n",
    "\n"
   ]
  },
  {
   "cell_type": "code",
   "execution_count": 642,
   "metadata": {},
   "outputs": [],
   "source": [
    "df1['conversations_0'] = (df1['conversations'] <= 1).astype(int)\n",
    "df1['conversations_1'] = ((df1['conversations'] > 1) & (df1['conversations'] <= 2)).astype(int)\n",
    "df1['conversations_2'] = ((df1['conversations'] > 2) & (df1['conversations'] <= 4)).astype(int)\n",
    "df1['conversations_3'] = ((df1['conversations'] > 4) & (df1['conversations'] <= 8)).astype(int)\n",
    "df1['conversations_4'] = (df1['conversations']  > 8).astype(int)\n",
    "df1 = df1.drop(['conversations'], axis=1)"
   ]
  },
  {
   "cell_type": "raw",
   "metadata": {},
   "source": [
    "#df1['client_industry'].value_counts()\n",
    "df1['industry_1'] = (df1['client_industry'] == 'Manufacturing').astype(int)\n",
    "df1['industry_2'] = (df1['client_industry'] == 'Government').astype(int)\n",
    "df1['industry_3'] = (df1['client_industry'] == 'Retail').astype(int)\n",
    "df1['industry_4'] = (df1['client_industry'] == 'Healthcare & Life Sciences').astype(int)\n",
    "df1['industry_5'] = (df1['client_industry'] == 'Professional Services').astype(int)\n",
    "df1['industry_6'] = (df1['client_industry'] == 'Financial Services').astype(int)\n",
    "df1['industry_7'] = (df1['client_industry'] == 'Education').astype(int)\n",
    "df1['industry_8'] = (df1['client_industry'] == 'Information Technology').astype(int)\n",
    "df1['industry_9'] = (df1['client_industry'] == 'Unkown').astype(int)\n",
    "df1['industry_10'] = (df1['client_industry'] == 'Internet & Telecommunications').astype(int)\n",
    "df1['industry_11'] = (df1['client_industry'] == 'Insurance').astype(int)\n",
    "df1 = df1.drop(['client_industry'], axis=1)"
   ]
  },
  {
   "cell_type": "code",
   "execution_count": 643,
   "metadata": {},
   "outputs": [
    {
     "data": {
      "text/plain": [
       "Index(['days_to_kit', 'reason_limited_time', 'reason_family_obligations',\n",
       "       'reason_work_obligations', 'reason_other', 'weight', 'is_sedentary',\n",
       "       'is_overweight', 'is_passive_coping', 'is_catastrophizing',\n",
       "       ...\n",
       "       'days_to_coach_6', 'days_to_coach_7', 'days_to_coach_8',\n",
       "       'days_to_coach_9', 'days_to_coach_10', 'conversations_0',\n",
       "       'conversations_1', 'conversations_2', 'conversations_3',\n",
       "       'conversations_4'],\n",
       "      dtype='object', length=174)"
      ]
     },
     "execution_count": 643,
     "metadata": {},
     "output_type": "execute_result"
    }
   ],
   "source": [
    "df1.columns"
   ]
  },
  {
   "cell_type": "code",
   "execution_count": 644,
   "metadata": {},
   "outputs": [],
   "source": [
    "df1 = df1.drop(['count_opr_msg_from_coach'], axis=1) # Always 3               "
   ]
  },
  {
   "cell_type": "code",
   "execution_count": 645,
   "metadata": {},
   "outputs": [],
   "source": [
    "df1['night_messages'] = (df1['night_messages'] > 0).astype(int)\n",
    "df1['morning_messages'] = (df1['morning_messages'] > 0).astype(int)\n",
    "df1['afternoon_messages'] = (df1['afternoon_messages'] > 0).astype(int)\n",
    "df1['evening_message'] = (df1['evening_message'] > 0).astype(int)\n"
   ]
  },
  {
   "cell_type": "code",
   "execution_count": 646,
   "metadata": {},
   "outputs": [],
   "source": [
    "days = pd.qcut(df1['conversation_density'], 5, \n",
    "               labels = ['density_1', 'density_2', 'density_3', 'density_4', 'density_5'])\n",
    "bio_dummies = pd.get_dummies(days)\n",
    "df1 = pd.concat([df1, bio_dummies], axis=1) \n",
    "df1 = df1.drop(['conversation_density'], axis=1)"
   ]
  },
  {
   "cell_type": "code",
   "execution_count": 647,
   "metadata": {},
   "outputs": [],
   "source": [
    "\n",
    "df1['1st_usr_msg_0'] = (df1['days_to_first_text_msg_from_user'] <= 4).astype(int)\n",
    "df1['1st_usr_msg_1'] = (df1['days_to_first_text_msg_from_user'] == 5).astype(int) # & (df1['days_to_first_text_msg_from_user'] <= 2)).astype(int)\n",
    "df1['1st_usr_msg_2'] = (df1['days_to_first_text_msg_from_user'] == 6).astype(int) # & (df1['days_to_first_text_msg_from_user'] <= 4)).astype(int)\n",
    "df1['1st_usr_msg_3'] = ((df1['days_to_first_text_msg_from_user'] > 6) &  (df1['days_to_first_text_msg_from_user'] <= 8)).astype(int)\n",
    "df1['1st_usr_msg_4'] = ((df1['days_to_first_text_msg_from_user'] > 8) &  (df1['days_to_first_text_msg_from_user'] <= 10)).astype(int)\n",
    "df1['1st_usr_msg_5'] = ((df1['days_to_first_text_msg_from_user'] > 10) & (df1['days_to_first_text_msg_from_user'] <= 14)).astype(int)\n",
    "df1['1st_usr_msg_6'] = ((df1['days_to_first_text_msg_from_user'] > 14) & (df1['days_to_first_text_msg_from_user'] <= 998)).astype(int) # & (df1['days_to_first_text_msg_from_user'] <= 8)).astype(int)\n",
    "#df1['1st_usr_msg_7'] = ((df1['days_to_first_text_msg_from_user'] > 30) & (df1['days_to_first_text_msg_from_user'] <= 998)).astype(int)\n",
    "#df1['1st_usr_msg_8'] = ((df1['days_to_first_text_msg_from_user'] > 50) & (df1['days_to_first_text_msg_from_user'] <= 998)).astype(int)\n",
    "df1['1st_usr_msg_9'] = (df1['days_to_first_text_msg_from_user'] == 999).astype(int)\n",
    "df1 = df1.drop(['days_to_first_text_msg_from_user'], axis=1)\n",
    "\n",
    "\n",
    "#bio_dummies = pd.get_dummies(days)\n",
    "#df1 = pd.concat([df1, bio_dummies], axis=1) \n",
    "#df1 = df1.drop(['days_to_first_text_msg_from_user'], axis=1)"
   ]
  },
  {
   "cell_type": "code",
   "execution_count": null,
   "metadata": {},
   "outputs": [],
   "source": [
    "\n"
   ]
  },
  {
   "cell_type": "code",
   "execution_count": 648,
   "metadata": {},
   "outputs": [],
   "source": [
    "\n",
    "df1['1st_coach_msg_0'] = (df1['days_to_first_text_msg_from_coach'] <= 3).astype(int)\n",
    "df1['1st_coach_msg_1'] = ((df1['days_to_first_text_msg_from_coach'] > 3) & (df1['days_to_first_text_msg_from_coach'] <= 4)).astype(int)\n",
    "df1['1st_coach_msg_2'] = ((df1['days_to_first_text_msg_from_coach'] > 4) & (df1['days_to_first_text_msg_from_coach'] <= 5)).astype(int)\n",
    "df1['1st_coach_msg_3'] = ((df1['days_to_first_text_msg_from_coach'] > 5) & (df1['days_to_first_text_msg_from_coach'] <= 6)).astype(int)\n",
    "df1['1st_coach_msg_4'] = (df1['days_to_first_text_msg_from_coach']  > 7).astype(int)\n",
    "df1 = df1.drop(['days_to_first_text_msg_from_coach'], axis=1)"
   ]
  },
  {
   "cell_type": "code",
   "execution_count": 649,
   "metadata": {},
   "outputs": [],
   "source": [
    "days = pd.qcut(df1['count_text_msg_from_coach'], 5, \n",
    "               labels = ['1st_msg_1', '1st_msg_2', '1st_msg_3', '1st_msg_4', '1st_msg_5'])\n",
    "bio_dummies = pd.get_dummies(days)\n",
    "df1 = pd.concat([df1, bio_dummies], axis=1) \n",
    "df1 = df1.drop(['count_text_msg_from_coach'], axis=1)"
   ]
  },
  {
   "cell_type": "code",
   "execution_count": 650,
   "metadata": {},
   "outputs": [],
   "source": [
    "### Define Y"
   ]
  },
  {
   "cell_type": "raw",
   "metadata": {},
   "source": [
    "limit = 7\n",
    "\n",
    "# Define target column\n",
    "# See analysis below showed the 20% of customer = 9 or more messages\n",
    "df1['Y'] = (df1['inbound_coach_messages_4_weeks'] > limit).astype(int)\n"
   ]
  },
  {
   "cell_type": "code",
   "execution_count": null,
   "metadata": {},
   "outputs": [],
   "source": []
  },
  {
   "cell_type": "code",
   "execution_count": 651,
   "metadata": {},
   "outputs": [
    {
     "data": {
      "text/plain": [
       "0        0\n",
       "1        0\n",
       "2        1\n",
       "3        0\n",
       "4        0\n",
       "        ..\n",
       "73606    0\n",
       "73610    0\n",
       "73615    0\n",
       "73616    0\n",
       "73618    0\n",
       "Name: Y, Length: 72490, dtype: int64"
      ]
     },
     "execution_count": 651,
     "metadata": {},
     "output_type": "execute_result"
    }
   ],
   "source": [
    "df1['Y']"
   ]
  },
  {
   "cell_type": "code",
   "execution_count": 652,
   "metadata": {},
   "outputs": [
    {
     "data": {
      "text/plain": [
       "0    57065\n",
       "1    15425\n",
       "Name: Y, dtype: int64"
      ]
     },
     "execution_count": 652,
     "metadata": {},
     "output_type": "execute_result"
    }
   ],
   "source": [
    "df1['Y'].value_counts()"
   ]
  },
  {
   "cell_type": "code",
   "execution_count": 653,
   "metadata": {},
   "outputs": [],
   "source": [
    "# Save file\n",
    "df1.to_csv('binaryData1.csv', index=False)\n",
    "#df1.to_csv('cleanData1.csv', index=False)"
   ]
  },
  {
   "cell_type": "code",
   "execution_count": null,
   "metadata": {},
   "outputs": [],
   "source": []
  },
  {
   "cell_type": "code",
   "execution_count": 654,
   "metadata": {},
   "outputs": [
    {
     "data": {
      "text/plain": [
       "2668"
      ]
     },
     "execution_count": 654,
     "metadata": {},
     "output_type": "execute_result"
    }
   ],
   "source": [
    "df1['bio_length_0'].sum()"
   ]
  },
  {
   "cell_type": "code",
   "execution_count": 655,
   "metadata": {},
   "outputs": [
    {
     "data": {
      "text/plain": [
       "9209"
      ]
     },
     "execution_count": 655,
     "metadata": {},
     "output_type": "execute_result"
    }
   ],
   "source": [
    "df1['bio_length_1'].sum()"
   ]
  },
  {
   "cell_type": "code",
   "execution_count": 656,
   "metadata": {},
   "outputs": [
    {
     "data": {
      "text/plain": [
       "72490"
      ]
     },
     "execution_count": 656,
     "metadata": {},
     "output_type": "execute_result"
    }
   ],
   "source": [
    "df1['first_et_1'].count()"
   ]
  },
  {
   "cell_type": "code",
   "execution_count": null,
   "metadata": {},
   "outputs": [],
   "source": []
  },
  {
   "cell_type": "code",
   "execution_count": null,
   "metadata": {},
   "outputs": [],
   "source": []
  },
  {
   "cell_type": "code",
   "execution_count": 657,
   "metadata": {},
   "outputs": [],
   "source": [
    "t = df1.sum(axis=0)"
   ]
  },
  {
   "cell_type": "code",
   "execution_count": 658,
   "metadata": {},
   "outputs": [
    {
     "data": {
      "text/plain": [
       "days_to_kit                  362412.0\n",
       "reason_limited_time           29212.0\n",
       "reason_family_obligations     13562.0\n",
       "reason_work_obligations       19140.0\n",
       "reason_other                   4730.0\n",
       "                               ...   \n",
       "1st_msg_1                     24665.0\n",
       "1st_msg_2                      8273.0\n",
       "1st_msg_3                     14023.0\n",
       "1st_msg_4                     11343.0\n",
       "1st_msg_5                     14186.0\n",
       "Length: 192, dtype: float64"
      ]
     },
     "execution_count": 658,
     "metadata": {},
     "output_type": "execute_result"
    }
   ],
   "source": [
    "t"
   ]
  },
  {
   "cell_type": "code",
   "execution_count": 659,
   "metadata": {},
   "outputs": [
    {
     "data": {
      "text/plain": [
       "reason_other                      4730.0\n",
       "is_sedentary                         0.0\n",
       "is_passive_coping                    0.0\n",
       "is_catastrophizing                   0.0\n",
       "morning_messages                  1953.0\n",
       "is_repeat                         1260.0\n",
       "O                                  507.0\n",
       "New England                       2827.0\n",
       "None                               162.0\n",
       "West North Central                4572.0\n",
       "Agriculture                         85.0\n",
       "Conglomerate                       577.0\n",
       "Conglomerates                     1544.0\n",
       "Construction                       705.0\n",
       "Education                         3893.0\n",
       "Energy                            1087.0\n",
       "Financial Services                4286.0\n",
       "Hospitality                       1799.0\n",
       "Information Technology            3964.0\n",
       "Insurance                         2649.0\n",
       "Internet & Telecommunications     3417.0\n",
       "Labor and Trust                     77.0\n",
       "Other                              759.0\n",
       "Professional Services             4364.0\n",
       "Transportation and Warehousing    1041.0\n",
       "Unkown                            3621.0\n",
       "Utilities                          592.0\n",
       "Wholesale                           69.0\n",
       "bio_length_0                      2668.0\n",
       "reasons_length_0                  3655.0\n",
       "imagine_length_0                  4202.0\n",
       "inbound_member_msg_0                 1.0\n",
       "inbound_member_msg_1                20.0\n",
       "inbound_member_msg_2               227.0\n",
       "inbound_member_msg_3              4833.0\n",
       "inbound_member_msg_9              4083.0\n",
       "inbound_member_msg_10             3301.0\n",
       "inbound_member_msg_11             2598.0\n",
       "pain_4                            1375.0\n",
       "accept_month_1                       0.0\n",
       "accept_month_7                       0.0\n",
       "accept_month_8                       0.0\n",
       "accept_month_9                       0.0\n",
       "accept_month_10                      0.0\n",
       "accept_month_11                      0.0\n",
       "accept_month_12                      0.0\n",
       "days_to_coach_6                   3440.0\n",
       "conversations_0                   4439.0\n",
       "1st_usr_msg_1                     4625.0\n",
       "1st_usr_msg_3                     4782.0\n",
       "1st_usr_msg_4                     2173.0\n",
       "1st_usr_msg_5                     2465.0\n",
       "1st_usr_msg_6                     3015.0\n",
       "dtype: float64"
      ]
     },
     "execution_count": 659,
     "metadata": {},
     "output_type": "execute_result"
    }
   ],
   "source": [
    "t[t<5000]"
   ]
  },
  {
   "cell_type": "code",
   "execution_count": null,
   "metadata": {},
   "outputs": [],
   "source": []
  },
  {
   "cell_type": "code",
   "execution_count": 660,
   "metadata": {},
   "outputs": [
    {
     "data": {
      "text/plain": [
       "[8457.0,\n",
       " 7470.0,\n",
       " 6788.0,\n",
       " 7143.0,\n",
       " 7299.0,\n",
       " 6414.0,\n",
       " 8340.0,\n",
       " 6493.0,\n",
       " 7641.0,\n",
       " 6445.0]"
      ]
     },
     "execution_count": 660,
     "metadata": {},
     "output_type": "execute_result"
    }
   ],
   "source": [
    "age = [t['age_0'], t['age_1'], t['age_2'], t['age_3'], t['age_4'], t['age_5'], t['age_6'], t['age_7'], t['age_8'], t['age_9']]\n",
    "age"
   ]
  },
  {
   "cell_type": "code",
   "execution_count": 661,
   "metadata": {},
   "outputs": [
    {
     "data": {
      "text/plain": [
       "14825.0"
      ]
     },
     "execution_count": 661,
     "metadata": {},
     "output_type": "execute_result"
    }
   ],
   "source": [
    "t['pain_length_4']"
   ]
  },
  {
   "cell_type": "code",
   "execution_count": 662,
   "metadata": {},
   "outputs": [
    {
     "data": {
      "text/plain": [
       "20.0"
      ]
     },
     "execution_count": 662,
     "metadata": {},
     "output_type": "execute_result"
    }
   ],
   "source": [
    "t['inbound_member_msg_1']"
   ]
  },
  {
   "cell_type": "code",
   "execution_count": 663,
   "metadata": {},
   "outputs": [
    {
     "data": {
      "text/plain": [
       "[4202.0, 8910.0, 15555.0, 20588.0, 16691.0, 6544.0]"
      ]
     },
     "execution_count": 663,
     "metadata": {},
     "output_type": "execute_result"
    }
   ],
   "source": [
    "imagine = [t['imagine_length_0'], t['imagine_length_1'], t['imagine_length_2'], t['imagine_length_3'], \n",
    "           t['imagine_length_4'], t['imagine_length_5']]\n",
    "imagine"
   ]
  },
  {
   "cell_type": "code",
   "execution_count": null,
   "metadata": {},
   "outputs": [],
   "source": []
  },
  {
   "cell_type": "code",
   "execution_count": 664,
   "metadata": {},
   "outputs": [
    {
     "data": {
      "text/plain": [
       "[6018.0, 10670.0, 17111.0, 14217.0, 14825.0, 9649.0]"
      ]
     },
     "execution_count": 664,
     "metadata": {},
     "output_type": "execute_result"
    }
   ],
   "source": [
    "pain = [t['pain_length_0'], t['pain_length_1'], t['pain_length_2'], t['pain_length_3'], \n",
    "        t['pain_length_4'], t['pain_length_5']]\n",
    "pain"
   ]
  },
  {
   "cell_type": "code",
   "execution_count": 665,
   "metadata": {},
   "outputs": [
    {
     "data": {
      "text/plain": [
       "[16757.0, 9654.0, 32746.0, 11958.0, 1375.0]"
      ]
     },
     "execution_count": 665,
     "metadata": {},
     "output_type": "execute_result"
    }
   ],
   "source": [
    "pain = [t['pain_0'], t['pain_1'], t['pain_2'], t['pain_3'], t['pain_4']]\n",
    "pain"
   ]
  },
  {
   "cell_type": "code",
   "execution_count": 666,
   "metadata": {},
   "outputs": [
    {
     "data": {
      "text/plain": [
       "[2668.0,\n",
       " 9209.0,\n",
       " 6050.0,\n",
       " 8705.0,\n",
       " 8729.0,\n",
       " 8331.0,\n",
       " 6671.0,\n",
       " 5312.0,\n",
       " 7239.0,\n",
       " 9576.0]"
      ]
     },
     "execution_count": 666,
     "metadata": {},
     "output_type": "execute_result"
    }
   ],
   "source": [
    "bio = [t['bio_length_0'], t['bio_length_1'], t['bio_length_2'], t['bio_length_3'], \n",
    "       t['bio_length_4'], t['bio_length_5'], t['bio_length_6'], t['bio_length_7'], \n",
    "       t['bio_length_8'], t['bio_length_9']]\n",
    "bio"
   ]
  },
  {
   "cell_type": "code",
   "execution_count": 667,
   "metadata": {},
   "outputs": [
    {
     "data": {
      "text/plain": [
       "[9601.0, 5995.0, 11006.0, 9248.0, 5917.0]"
      ]
     },
     "execution_count": 667,
     "metadata": {},
     "output_type": "execute_result"
    }
   ],
   "source": [
    "days = [t['days_to_coach_1'], t['days_to_coach_2'], t['days_to_coach_3'], t['days_to_coach_4'], t['days_to_coach_5']]\n",
    "days"
   ]
  },
  {
   "cell_type": "code",
   "execution_count": 668,
   "metadata": {},
   "outputs": [
    {
     "data": {
      "text/plain": [
       "[4439.0, 18890.0, 28325.0, 14463.0, 6373.0]"
      ]
     },
     "execution_count": 668,
     "metadata": {},
     "output_type": "execute_result"
    }
   ],
   "source": [
    "[t['conversations_0'], t['conversations_1'], t['conversations_2'], t['conversations_3'], t['conversations_4']]\n"
   ]
  },
  {
   "cell_type": "code",
   "execution_count": 669,
   "metadata": {},
   "outputs": [
    {
     "data": {
      "text/plain": [
       "days_to_kit                      362412.0\n",
       "reason_limited_time               29212.0\n",
       "weight                         13171129.0\n",
       "is_overweight                     45520.0\n",
       "week_1_words                    2357103.0\n",
       "afternoon_messages                26120.0\n",
       "first_et_before_coach             73355.0\n",
       "first_user_msg_before_coach      231123.0\n",
       "kit_arrival_before_coach         561466.0\n",
       "back                              30619.0\n",
       "F                                 42295.0\n",
       "M                                 29688.0\n",
       "reasons_length_4                  21020.0\n",
       "imagine_length_3                  20588.0\n",
       "inbound_coach_length_0            38231.0\n",
       "inbound_coach_msg_0               38166.0\n",
       "gad_0                             32732.0\n",
       "phq_0                             44637.0\n",
       "user_initiated_conv_0             60741.0\n",
       "pain_2                            32746.0\n",
       "accept_month_3                    20814.0\n",
       "hours_to_complete_aq_0            64803.0\n",
       "conversations_2                   28325.0\n",
       "1st_usr_msg_9                     42508.0\n",
       "1st_coach_msg_0                   20615.0\n",
       "1st_msg_1                         24665.0\n",
       "dtype: float64"
      ]
     },
     "execution_count": 669,
     "metadata": {},
     "output_type": "execute_result"
    }
   ],
   "source": [
    "t[t>20000]"
   ]
  },
  {
   "cell_type": "code",
   "execution_count": 670,
   "metadata": {},
   "outputs": [
    {
     "data": {
      "text/plain": [
       "[1.0,\n",
       " 20.0,\n",
       " 227.0,\n",
       " 4833.0,\n",
       " 8202.0,\n",
       " 16337.0,\n",
       " 9733.0,\n",
       " 6457.0,\n",
       " 5203.0,\n",
       " 4083.0,\n",
       " 3301.0,\n",
       " 2598.0]"
      ]
     },
     "execution_count": 670,
     "metadata": {},
     "output_type": "execute_result"
    }
   ],
   "source": [
    "[t['inbound_member_msg_0'], t['inbound_member_msg_1'], t['inbound_member_msg_2'], t['inbound_member_msg_3'], t['inbound_member_msg_4'],\n",
    " t['inbound_member_msg_5'], t['inbound_member_msg_6'], t['inbound_member_msg_7'], t['inbound_member_msg_8'], t['inbound_member_msg_9'], \n",
    " t['inbound_member_msg_10'], t['inbound_member_msg_11']]"
   ]
  },
  {
   "cell_type": "code",
   "execution_count": 671,
   "metadata": {},
   "outputs": [
    {
     "data": {
      "text/plain": [
       "[6148.0, 4625.0, 6774.0, 4782.0, 2173.0, 2465.0, 3015.0, 42508.0]"
      ]
     },
     "execution_count": 671,
     "metadata": {},
     "output_type": "execute_result"
    }
   ],
   "source": [
    "[t['1st_usr_msg_0'], t['1st_usr_msg_1'], t['1st_usr_msg_2'], t['1st_usr_msg_3'], t['1st_usr_msg_4'], \n",
    " t['1st_usr_msg_5'], t['1st_usr_msg_6'], t['1st_usr_msg_9']]"
   ]
  },
  {
   "cell_type": "code",
   "execution_count": null,
   "metadata": {},
   "outputs": [],
   "source": []
  }
 ],
 "metadata": {
  "instance_type": "ml.t3.medium",
  "kernelspec": {
   "display_name": "Python 3 (Data Science)",
   "language": "python",
   "name": "python3__SAGEMAKER_INTERNAL__arn:aws:sagemaker:us-west-1:742091327244:image/datascience-1.0"
  },
  "language_info": {
   "codemirror_mode": {
    "name": "ipython",
    "version": 3
   },
   "file_extension": ".py",
   "mimetype": "text/x-python",
   "name": "python",
   "nbconvert_exporter": "python",
   "pygments_lexer": "ipython3",
   "version": "3.7.10"
  }
 },
 "nbformat": 4,
 "nbformat_minor": 4
}
