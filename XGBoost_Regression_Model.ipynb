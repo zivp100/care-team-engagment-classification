{
 "cells": [
  {
   "cell_type": "markdown",
   "metadata": {},
   "source": [
    "# Care Team Engagment Prediction - NXGBoost"
   ]
  },
  {
   "cell_type": "code",
   "execution_count": 87,
   "metadata": {},
   "outputs": [],
   "source": [
    "import numpy as np\n",
    "import pandas as pd\n",
    "import matplotlib.pyplot as plt\n",
    "\n",
    "\n",
    "import sklearn\n",
    "from sklearn import preprocessing\n",
    "from sklearn.model_selection import train_test_split"
   ]
  },
  {
   "cell_type": "code",
   "execution_count": 88,
   "metadata": {},
   "outputs": [],
   "source": [
    "%matplotlib inline"
   ]
  },
  {
   "cell_type": "code",
   "execution_count": 89,
   "metadata": {},
   "outputs": [],
   "source": [
    "# Read local data file\n",
    "df1 = pd.read_csv('regressionData1.csv')\n",
    "#df1 = pd.read_csv('binaryData1.csv')\n"
   ]
  },
  {
   "cell_type": "code",
   "execution_count": 90,
   "metadata": {},
   "outputs": [
    {
     "data": {
      "text/plain": [
       "(72490, 85)"
      ]
     },
     "execution_count": 90,
     "metadata": {},
     "output_type": "execute_result"
    }
   ],
   "source": [
    "df1.shape"
   ]
  },
  {
   "cell_type": "code",
   "execution_count": 91,
   "metadata": {},
   "outputs": [
    {
     "data": {
      "text/plain": [
       "Index(['days_to_first_et', 'days_to_coach', 'days_to_kit', 'acceptance_month',\n",
       "       'user_age', 'bio_length', 'reasons_length', 'imagine_free_length',\n",
       "       'reason_limited_time', 'reason_family_obligations',\n",
       "       'reason_work_obligations', 'reason_other', 'pain_severity', 'pain_vas',\n",
       "       'pain_description_length', 'weight', 'bmi', 'gad', 'phq',\n",
       "       'is_sedentary', 'is_overweight', 'is_passive_coping',\n",
       "       'is_catastrophizing', 'hours_to_complete_aq', 'conversations',\n",
       "       'user_initiated_conv', 'hh_initiated_conv',\n",
       "       'inbound_coach_messages_1_week', 'inbound_member_messages_1_week',\n",
       "       'inbound_coach_messages_length_1_week', 'conversation_density',\n",
       "       'week_1_words', 'night_messages', 'morning_messages',\n",
       "       'afternoon_messages', 'evening_message', 'count_text_msg_from_coach',\n",
       "       'days_to_first_text_msg_from_user', 'days_to_first_text_msg_from_coach',\n",
       "       'count_opr_msg_from_coach', 'is_repeat', 'first_et_before_coach',\n",
       "       'first_user_msg_before_coach', 'kit_arrival_before_coach', 'back',\n",
       "       'hip', 'knee', 'neck', 'shoulder', 'F', 'M', 'O', 'East North Central',\n",
       "       'East South Central', 'Middle Atlantic', 'Mountain', 'New England',\n",
       "       'None', 'Pacific', 'South Atlantic', 'West North Central',\n",
       "       'West South Central', 'Agriculture', 'Conglomerate', 'Conglomerates',\n",
       "       'Construction', 'Education', 'Energy', 'Financial Services',\n",
       "       'Government', 'Healthcare & Life Sciences', 'Hospitality',\n",
       "       'Information Technology', 'Insurance', 'Internet & Telecommunications',\n",
       "       'Labor and Trust', 'Manufacturing', 'Other', 'Professional Services',\n",
       "       'Retail', 'Transportation and Warehousing', 'Unkown', 'Utilities',\n",
       "       'Wholesale', 'Y'],\n",
       "      dtype='object')"
      ]
     },
     "execution_count": 91,
     "metadata": {},
     "output_type": "execute_result"
    }
   ],
   "source": [
    "df1.columns\n",
    "\n"
   ]
  },
  {
   "cell_type": "markdown",
   "metadata": {},
   "source": [
    "### Split data into training and testing"
   ]
  },
  {
   "cell_type": "code",
   "execution_count": 92,
   "metadata": {},
   "outputs": [],
   "source": [
    "col = df1.columns.tolist()\n",
    "col.remove('Y')\n",
    "X = df1[col]\n",
    "y = df1['Y']\n",
    "#X = df1.iloc[:, 0:-1].values\n",
    "#y = df1.iloc[:, -1].values"
   ]
  },
  {
   "cell_type": "code",
   "execution_count": 93,
   "metadata": {},
   "outputs": [],
   "source": [
    "X_train, X_test, y_train, y_test = train_test_split(X, y, test_size = 0.20, random_state = 5)"
   ]
  },
  {
   "cell_type": "code",
   "execution_count": 94,
   "metadata": {},
   "outputs": [
    {
     "name": "stdout",
     "output_type": "stream",
     "text": [
      "0 days_to_first_et\n",
      "1 days_to_coach\n",
      "2 days_to_kit\n",
      "3 acceptance_month\n",
      "4 user_age\n",
      "5 bio_length\n",
      "6 reasons_length\n",
      "7 imagine_free_length\n",
      "8 reason_limited_time\n",
      "9 reason_family_obligations\n",
      "10 reason_work_obligations\n",
      "11 reason_other\n",
      "12 pain_severity\n",
      "13 pain_vas\n",
      "14 pain_description_length\n",
      "15 weight\n",
      "16 bmi\n",
      "17 gad\n",
      "18 phq\n",
      "19 is_sedentary\n",
      "20 is_overweight\n",
      "21 is_passive_coping\n",
      "22 is_catastrophizing\n",
      "23 hours_to_complete_aq\n",
      "24 conversations\n",
      "25 user_initiated_conv\n",
      "26 hh_initiated_conv\n",
      "27 inbound_coach_messages_1_week\n",
      "28 inbound_member_messages_1_week\n",
      "29 inbound_coach_messages_length_1_week\n",
      "30 conversation_density\n",
      "31 week_1_words\n",
      "32 night_messages\n",
      "33 morning_messages\n",
      "34 afternoon_messages\n",
      "35 evening_message\n",
      "36 count_text_msg_from_coach\n",
      "37 days_to_first_text_msg_from_user\n",
      "38 days_to_first_text_msg_from_coach\n",
      "39 count_opr_msg_from_coach\n",
      "40 is_repeat\n",
      "41 first_et_before_coach\n",
      "42 first_user_msg_before_coach\n",
      "43 kit_arrival_before_coach\n",
      "44 back\n",
      "45 hip\n",
      "46 knee\n",
      "47 neck\n",
      "48 shoulder\n",
      "49 F\n",
      "50 M\n",
      "51 O\n",
      "52 East North Central\n",
      "53 East South Central\n",
      "54 Middle Atlantic\n",
      "55 Mountain\n",
      "56 New England\n",
      "57 None\n",
      "58 Pacific\n",
      "59 South Atlantic\n",
      "60 West North Central\n",
      "61 West South Central\n",
      "62 Agriculture\n",
      "63 Conglomerate\n",
      "64 Conglomerates\n",
      "65 Construction\n",
      "66 Education\n",
      "67 Energy\n",
      "68 Financial Services\n",
      "69 Government\n",
      "70 Healthcare & Life Sciences\n",
      "71 Hospitality\n",
      "72 Information Technology\n",
      "73 Insurance\n",
      "74 Internet & Telecommunications\n",
      "75 Labor and Trust\n",
      "76 Manufacturing\n",
      "77 Other\n",
      "78 Professional Services\n",
      "79 Retail\n",
      "80 Transportation and Warehousing\n",
      "81 Unkown\n",
      "82 Utilities\n",
      "83 Wholesale\n",
      "84 Y\n"
     ]
    }
   ],
   "source": [
    "for i, name in enumerate(df1.columns):\n",
    "    print(i,name)"
   ]
  },
  {
   "cell_type": "markdown",
   "metadata": {},
   "source": [
    "# XGBoost"
   ]
  },
  {
   "cell_type": "code",
   "execution_count": 95,
   "metadata": {},
   "outputs": [
    {
     "data": {
      "text/plain": [
       "'0.24.2'"
      ]
     },
     "execution_count": 95,
     "metadata": {},
     "output_type": "execute_result"
    }
   ],
   "source": [
    "from sklearn.metrics import confusion_matrix,accuracy_score, precision_score, recall_score, f1_score\n",
    "sklearn.__version__"
   ]
  },
  {
   "cell_type": "code",
   "execution_count": 96,
   "metadata": {},
   "outputs": [],
   "source": [
    "from sklearn.ensemble import GradientBoostingRegressor\n",
    "reg = GradientBoostingRegressor(n_estimators=4000,random_state=0)\n",
    "reg.fit(X_train, y_train)\n",
    "y_pred = reg.predict(X_test)"
   ]
  },
  {
   "cell_type": "raw",
   "metadata": {},
   "source": [
    "class sklearn.ensemble.GradientBoostingRegressor(*, loss='squared_error', learning_rate=0.1, \n",
    "                                                 n_estimators=100, subsample=1.0, criterion='friedman_mse', min_samples_split=2, \n",
    "                                                 min_samples_leaf=1, min_weight_fraction_leaf=0.0, max_depth=3, min_impurity_decrease=0.0, \n",
    "                                                 init=None, random_state=None, max_features=None, alpha=0.9, verbose=0, max_leaf_nodes=None, \n",
    "                                                 warm_start=False, validation_fraction=0.1, n_iter_no_change=None, tol=0.0001, ccp_alpha=0.0)\n"
   ]
  },
  {
   "cell_type": "code",
   "execution_count": 97,
   "metadata": {},
   "outputs": [
    {
     "data": {
      "text/plain": [
       "<function matplotlib.pyplot.show(close=None, block=None)>"
      ]
     },
     "execution_count": 97,
     "metadata": {},
     "output_type": "execute_result"
    },
    {
     "data": {
      "image/png": "[encoded data removed]",
      "text/plain": [
       "<Figure size 432x288 with 1 Axes>"
      ]
     },
     "metadata": {
      "needs_background": "light"
     },
     "output_type": "display_data"
    }
   ],
   "source": [
    "plt.plot(reg.train_score_)\n",
    "plt.show"
   ]
  },
  {
   "cell_type": "code",
   "execution_count": 98,
   "metadata": {},
   "outputs": [
    {
     "data": {
      "text/plain": [
       "(14498,)"
      ]
     },
     "execution_count": 98,
     "metadata": {},
     "output_type": "execute_result"
    }
   ],
   "source": [
    "y_test.shape"
   ]
  },
  {
   "cell_type": "code",
   "execution_count": 99,
   "metadata": {},
   "outputs": [
    {
     "data": {
      "text/plain": [
       "(14498,)"
      ]
     },
     "execution_count": 99,
     "metadata": {},
     "output_type": "execute_result"
    }
   ],
   "source": [
    "y_pred.shape"
   ]
  },
  {
   "cell_type": "code",
   "execution_count": 100,
   "metadata": {},
   "outputs": [
    {
     "data": {
      "text/plain": [
       "0.4373323797604148"
      ]
     },
     "execution_count": 100,
     "metadata": {},
     "output_type": "execute_result"
    }
   ],
   "source": [
    "y_test1 = (y_test>7).astype(int)\n",
    "y_pred1 = (y_pred>7).astype(int)\n",
    "f1_score(y_test1, y_pred1)"
   ]
  },
  {
   "cell_type": "code",
   "execution_count": 101,
   "metadata": {},
   "outputs": [
    {
     "data": {
      "text/plain": [
       "array([[10128,  1250],\n",
       "       [ 1897,  1223]])"
      ]
     },
     "execution_count": 101,
     "metadata": {},
     "output_type": "execute_result"
    }
   ],
   "source": [
    "confusion_matrix(y_test1, y_pred1)"
   ]
  },
  {
   "cell_type": "raw",
   "metadata": {},
   "source": [
    "limit = 0.01\n",
    "results =[]\n",
    "max_score = 0\n",
    "max_limit = 0\n",
    "while limit < 1:\n",
    "    y_pred1 = (y_pred>limit).astype(int)\n",
    "    score = f1_score(y_test, y_pred1)\n",
    "    if (score > max_score):\n",
    "        max_score = score\n",
    "        max_limit = limit\n",
    "    results.append(score)\n",
    "    limit = limit + 0.05\n",
    "    \n",
    "print (max_limit, max_score)"
   ]
  },
  {
   "cell_type": "code",
   "execution_count": 106,
   "metadata": {},
   "outputs": [
    {
     "name": "stdout",
     "output_type": "stream",
     "text": [
      "0 ('inbound_coach_messages_1_week', 0.07328489499994764)\n",
      "1 ('week_1_words', 0.06431703761261372)\n",
      "2 ('inbound_coach_messages_length_1_week', 0.05916202558093622)\n",
      "3 ('acceptance_month', 0.05815341038968416)\n",
      "4 ('days_to_coach', 0.05210939699055783)\n",
      "5 ('kit_arrival_before_coach', 0.0477055003601043)\n",
      "6 ('reasons_length', 0.04766872712107503)\n",
      "7 ('user_age', 0.0455024407565634)\n",
      "8 ('bmi', 0.04492649635847346)\n",
      "9 ('hh_initiated_conv', 0.04178282880268712)\n",
      "10 ('imagine_free_length', 0.035545322750986395)\n",
      "11 ('bio_length', 0.03462693607722738)\n",
      "12 ('count_text_msg_from_coach', 0.031040037352104713)\n",
      "13 ('pain_vas', 0.030796170153798468)\n",
      "14 ('conversation_density', 0.025328229492360875)\n",
      "15 ('pain_description_length', 0.024700361593646105)\n",
      "16 ('days_to_first_text_msg_from_user', 0.021136337446319462)\n",
      "17 ('weight', 0.020438787801989905)\n",
      "18 ('count_opr_msg_from_coach', 0.019171945014774237)\n",
      "19 ('hours_to_complete_aq', 0.016020215387453397)\n"
     ]
    }
   ],
   "source": [
    "lst = list(zip(df1.columns, reg.feature_importances_))\n",
    "lst.sort(key=lambda x:x[1], reverse=True)\n",
    "for i, item in enumerate(lst[0:20]):\n",
    "    print (i, item)"
   ]
  },
  {
   "cell_type": "code",
   "execution_count": null,
   "metadata": {},
   "outputs": [],
   "source": [
    "#X_test['y_test'] = y_test\n",
    "#X_test['y_pred'] = y_pred\n",
    "X_test['wrong'] = y_test - y_pred\n",
    "err1 = X_test[X_test['wrong'] > 0]\n",
    "err2 = X_test[X_test['wrong'] < 0]"
   ]
  },
  {
   "cell_type": "code",
   "execution_count": 82,
   "metadata": {},
   "outputs": [
    {
     "data": {
      "text/plain": [
       " 0    12820\n",
       " 1     2478\n",
       "-1      478\n",
       "Name: wrong, dtype: int64"
      ]
     },
     "execution_count": 82,
     "metadata": {},
     "output_type": "execute_result"
    }
   ],
   "source": [
    "X_test['wrong'].value_counts()"
   ]
  },
  {
   "cell_type": "code",
   "execution_count": null,
   "metadata": {},
   "outputs": [],
   "source": [
    "err1"
   ]
  },
  {
   "cell_type": "code",
   "execution_count": null,
   "metadata": {},
   "outputs": [],
   "source": []
  },
  {
   "cell_type": "code",
   "execution_count": null,
   "metadata": {},
   "outputs": [],
   "source": []
  },
  {
   "cell_type": "code",
   "execution_count": 261,
   "metadata": {},
   "outputs": [],
   "source": [
    "y_pred = clf.predict(X_test)"
   ]
  },
  {
   "cell_type": "code",
   "execution_count": 262,
   "metadata": {},
   "outputs": [
    {
     "data": {
      "text/plain": [
       "array([[12035,   347],\n",
       "       [ 2535,   720]])"
      ]
     },
     "execution_count": 262,
     "metadata": {},
     "output_type": "execute_result"
    }
   ],
   "source": [
    "confusion_matrix(y_test, y_pred)"
   ]
  },
  {
   "cell_type": "code",
   "execution_count": 263,
   "metadata": {},
   "outputs": [
    {
     "data": {
      "text/plain": [
       "0.3331790837575197"
      ]
     },
     "execution_count": 263,
     "metadata": {},
     "output_type": "execute_result"
    }
   ],
   "source": [
    "f1_score(y_test, y_pred)"
   ]
  },
  {
   "cell_type": "code",
   "execution_count": null,
   "metadata": {},
   "outputs": [],
   "source": []
  },
  {
   "cell_type": "code",
   "execution_count": null,
   "metadata": {},
   "outputs": [],
   "source": []
  },
  {
   "cell_type": "code",
   "execution_count": 164,
   "metadata": {},
   "outputs": [
    {
     "data": {
      "text/plain": [
       "30597    0\n",
       "69890    0\n",
       "69566    0\n",
       "30505    0\n",
       "74130    0\n",
       "        ..\n",
       "26110    0\n",
       "38279    0\n",
       "49592    0\n",
       "33111    0\n",
       "77229    0\n",
       "Name: Y, Length: 15799, dtype: int64"
      ]
     },
     "execution_count": 164,
     "metadata": {},
     "output_type": "execute_result"
    }
   ],
   "source": [
    "y_test"
   ]
  },
  {
   "cell_type": "code",
   "execution_count": null,
   "metadata": {},
   "outputs": [],
   "source": []
  },
  {
   "cell_type": "code",
   "execution_count": 167,
   "metadata": {},
   "outputs": [
    {
     "data": {
      "text/plain": [
       "<function matplotlib.pyplot.show(close=None, block=None)>"
      ]
     },
     "execution_count": 167,
     "metadata": {},
     "output_type": "execute_result"
    },
    {
     "data": {
      "image/png": "[encoded data removed]",
      "text/plain": [
       "<Figure size 432x288 with 1 Axes>"
      ]
     },
     "metadata": {
      "needs_background": "light"
     },
     "output_type": "display_data"
    }
   ],
   "source": [
    "plt.plot(results)\n",
    "plt.show"
   ]
  },
  {
   "cell_type": "code",
   "execution_count": 169,
   "metadata": {},
   "outputs": [
    {
     "name": "stdout",
     "output_type": "stream",
     "text": [
      "Collecting xgboost\n",
      "  Using cached xgboost-1.6.1-py3-none-manylinux2014_x86_64.whl (192.9 MB)\n",
      "Requirement already satisfied: scipy in /opt/conda/lib/python3.8/site-packages (from xgboost) (1.7.1)\n",
      "Requirement already satisfied: numpy in /opt/conda/lib/python3.8/site-packages (from xgboost) (1.22.3)\n",
      "Installing collected packages: xgboost\n",
      "Successfully installed xgboost-1.6.1\n",
      "\u001b[33mWARNING: Running pip as the 'root' user can result in broken permissions and conflicting behaviour with the system package manager. It is recommended to use a virtual environment instead: https://pip.pypa.io/warnings/venv\u001b[0m\u001b[33m\n",
      "\u001b[0m\u001b[33mWARNING: There was an error checking the latest version of pip.\u001b[0m\u001b[33m\n",
      "\u001b[0m"
     ]
    }
   ],
   "source": [
    "!pip install xgboost"
   ]
  },
  {
   "cell_type": "code",
   "execution_count": 170,
   "metadata": {},
   "outputs": [],
   "source": [
    "from sklearn.model_selection import GridSearchCV\n",
    "import xgboost as xgb\n",
    "import multiprocessing"
   ]
  },
  {
   "cell_type": "code",
   "execution_count": null,
   "metadata": {},
   "outputs": [
    {
     "name": "stdout",
     "output_type": "stream",
     "text": [
      "Fitting 5 folds for each of 30 candidates, totalling 150 fits\n"
     ]
    },
    {
     "name": "stderr",
     "output_type": "stream",
     "text": [
      "/opt/conda/lib/python3.8/site-packages/joblib/externals/loky/process_executor.py:702: UserWarning: A worker stopped while some jobs were given to the executor. This can be caused by a too short worker timeout or by a memory leak.\n",
      "  warnings.warn(\n"
     ]
    }
   ],
   "source": [
    "xgb_model = xgb.XGBRegressor(n_jobs=multiprocessing.cpu_count() // 2)\n",
    "clf = GridSearchCV(xgb_model, {'max_depth': [5, 10, 15, 20, 25, 30],\n",
    "                               'n_estimators': [50, 100, 200, 400, 800]}, \n",
    "                               verbose=1,\n",
    "                               n_jobs=1)\n",
    "clf.fit(X_train, y_train)\n",
    "print(clf.best_score_)\n",
    "print(clf.best_params_)"
   ]
  },
  {
   "cell_type": "code",
   "execution_count": null,
   "metadata": {},
   "outputs": [],
   "source": []
  },
  {
   "cell_type": "markdown",
   "metadata": {},
   "source": [
    "# Using XGBoost library"
   ]
  },
  {
   "cell_type": "code",
   "execution_count": null,
   "metadata": {},
   "outputs": [],
   "source": [
    "import numpy as np\n",
    "import scipy.sparse\n",
    "import pickle\n",
    "import xgboost as xgb\n",
    "import os\n",
    "\n",
    "\n",
    "\n",
    "# simple example\n",
    "# load file from text file, also binary buffer generated by xgboost\n",
    "dtrain = xgb.DMatrix(os.path.join(DEMO_DIR, 'data', 'agaricus.txt.train?indexing_mode=1'))\n",
    "dtest = xgb.DMatrix(os.path.join(DEMO_DIR, 'data', 'agaricus.txt.test?indexing_mode=1'))\n",
    "\n",
    "# specify parameters via map, definition are same as c++ version\n",
    "param = {'max_depth': 2, 'eta': 1, 'objective': 'binary:logistic'}\n",
    "\n",
    "# specify validations set to watch performance\n",
    "watchlist = [(dtest, 'eval'), (dtrain, 'train')]\n",
    "num_round = 2\n",
    "bst = xgb.train(param, dtrain, num_round, watchlist)\n",
    "\n",
    "# this is prediction\n",
    "preds = bst.predict(dtest)\n",
    "labels = dtest.get_label()"
   ]
  }
 ],
 "metadata": {
  "instance_type": "ml.t3.xlarge",
  "kernelspec": {
   "display_name": "Python 3 (Data Science 2.0)",
   "language": "python",
   "name": "python3__SAGEMAKER_INTERNAL__arn:aws:sagemaker:us-west-1:742091327244:image/sagemaker-data-science-38"
  },
  "language_info": {
   "codemirror_mode": {
    "name": "ipython",
    "version": 3
   },
   "file_extension": ".py",
   "mimetype": "text/x-python",
   "name": "python",
   "nbconvert_exporter": "python",
   "pygments_lexer": "ipython3",
   "version": "3.8.13"
  }
 },
 "nbformat": 4,
 "nbformat_minor": 4
}
