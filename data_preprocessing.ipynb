{
 "cells": [
  {
   "cell_type": "markdown",
   "metadata": {},
   "source": [
    "# Care Team Engagment Prediction - Data preprocessing"
   ]
  },
  {
   "cell_type": "markdown",
   "metadata": {},
   "source": [
    "This notebook includes the following steps:\n",
    "<ul>\n",
    "<li> Setup\n",
    "<li> Read data file </li>\n",
    "<li> Process data file </li>\n",
    "<li> Remove nulls </li>\n",
    "<li> Define Y </li>\n",
    "</ul>"
   ]
  },
  {
   "cell_type": "markdown",
   "metadata": {},
   "source": [
    "### 0. Setup"
   ]
  },
  {
   "cell_type": "code",
   "execution_count": 109,
   "metadata": {},
   "outputs": [],
   "source": [
    "import numpy as np\n",
    "import pandas as pd\n",
    "import matplotlib.pyplot as plt\n",
    "\n",
    "\n",
    "import sklearn\n",
    "from sklearn import preprocessing\n",
    "from sklearn.model_selection import train_test_split"
   ]
  },
  {
   "cell_type": "code",
   "execution_count": 110,
   "metadata": {},
   "outputs": [],
   "source": [
    "%matplotlib inline"
   ]
  },
  {
   "cell_type": "markdown",
   "metadata": {},
   "source": [
    "### 1. Read data file (locally or from S3) "
   ]
  },
  {
   "cell_type": "code",
   "execution_count": 111,
   "metadata": {},
   "outputs": [],
   "source": [
    "# Read local data file\n",
    "df1 = pd.read_csv('data5.csv')"
   ]
  },
  {
   "cell_type": "raw",
   "metadata": {},
   "source": [
    "# Reading a file from S3\n",
    "bucket='sagemaker-studio-02e2gyih7qot'\n",
    "data_key = 'Reviews.csv'\n",
    "data_location = 's3://{}/{}'.format(bucket, data_key)\n",
    "\n",
    "df1 = pd.read_csv(data_location)"
   ]
  },
  {
   "cell_type": "markdown",
   "metadata": {},
   "source": [
    "### 2. Process Input file"
   ]
  },
  {
   "cell_type": "code",
   "execution_count": 112,
   "metadata": {},
   "outputs": [
    {
     "data": {
      "text/plain": [
       "(53895, 30)"
      ]
     },
     "execution_count": 112,
     "metadata": {},
     "output_type": "execute_result"
    }
   ],
   "source": [
    "df1.shape"
   ]
  },
  {
   "cell_type": "code",
   "execution_count": 113,
   "metadata": {},
   "outputs": [
    {
     "data": {
      "text/plain": [
       "Index(['days_to_first_et', 'days_to_coach', 'indication', 'is_gender_female',\n",
       "       'is_gender_male', 'is_gender_other', 'bio_length', 'reasons_length',\n",
       "       'imagine_free_length', 'reason_limited_time',\n",
       "       'reason_family_obligations', 'reason_work_obligations', 'reason_other',\n",
       "       'surgery_1yr', 'pain_severity', 'pain_vas', 'pain_description_length',\n",
       "       'bmi', 'gad', 'phq', 'inbound_coach_messages_4_weeks',\n",
       "       'inbound_coach_messages_1_week', 'inbound_coach_messages_length_1_week',\n",
       "       'inbound_member_messages_4_weeks', 'inbound_member_messages_1_week',\n",
       "       'surgery_message', 'call_message', 'interaction_message',\n",
       "       'video_message', 'booking_message'],\n",
       "      dtype='object')"
      ]
     },
     "execution_count": 113,
     "metadata": {},
     "output_type": "execute_result"
    }
   ],
   "source": [
    "df1.columns"
   ]
  },
  {
   "cell_type": "code",
   "execution_count": 114,
   "metadata": {},
   "outputs": [],
   "source": [
    "# Replace indication with dummy variables\n",
    "indication_dummies = pd.get_dummies(df1['indication'])\n",
    "df1 = pd.concat([df1, indication_dummies], axis=1)      \n",
    "df1 = df1.drop(['indication'], axis=1)"
   ]
  },
  {
   "cell_type": "code",
   "execution_count": 115,
   "metadata": {},
   "outputs": [],
   "source": [
    "# Combine all hot words into one column\n",
    "df1['hot_word'] =  df1['surgery_message'] + df1['call_message'] + df1['interaction_message'] + df1['video_message']\n",
    "\n",
    "# take out of the members that used a hot word. We know those should be assign to mid level\n",
    "hot_word_memebrs = df1[df1['hot_word'] > 0]\n"
   ]
  },
  {
   "cell_type": "markdown",
   "metadata": {},
   "source": [
    "### 3. Remove null values"
   ]
  },
  {
   "cell_type": "code",
   "execution_count": 116,
   "metadata": {},
   "outputs": [
    {
     "name": "stdout",
     "output_type": "stream",
     "text": [
      "days_to_first_et                            0\n",
      "days_to_coach                            1010\n",
      "is_gender_female                            0\n",
      "is_gender_male                              0\n",
      "is_gender_other                             0\n",
      "bio_length                                  0\n",
      "reasons_length                              0\n",
      "imagine_free_length                         0\n",
      "reason_limited_time                         0\n",
      "reason_family_obligations                   0\n",
      "reason_work_obligations                     0\n",
      "reason_other                                0\n",
      "surgery_1yr                                 0\n",
      "pain_severity                           12466\n",
      "pain_vas                                 2174\n",
      "pain_description_length                     0\n",
      "bmi                                      2377\n",
      "gad                                         6\n",
      "phq                                         7\n",
      "inbound_coach_messages_4_weeks              0\n",
      "inbound_coach_messages_1_week               0\n",
      "inbound_coach_messages_length_1_week        0\n",
      "inbound_member_messages_4_weeks             0\n",
      "inbound_member_messages_1_week              0\n",
      "surgery_message                             0\n",
      "call_message                                0\n",
      "interaction_message                         0\n",
      "video_message                               0\n",
      "booking_message                             0\n",
      "back                                        0\n",
      "hip                                         0\n",
      "knee                                        0\n",
      "neck                                        0\n",
      "shoulder                                    0\n",
      "hot_word                                    0\n",
      "dtype: int64\n"
     ]
    }
   ],
   "source": [
    "print(df1.isnull().sum()) # found no missing values in the data"
   ]
  },
  {
   "cell_type": "code",
   "execution_count": 117,
   "metadata": {},
   "outputs": [],
   "source": [
    "# Remove members with transferred_to_coach_day = null\n",
    "df1 = df1[df1['days_to_coach'].notna()]"
   ]
  },
  {
   "cell_type": "code",
   "execution_count": 118,
   "metadata": {},
   "outputs": [],
   "source": [
    "# if pain_severity or pain_vas is null -> 0\n",
    "df1['pain_severity'].fillna(0, inplace=True)\n",
    "df1['pain_vas'].fillna(0, inplace=True)\n",
    "df1['gad'].fillna(0, inplace=True)\n",
    "df1['phq'].fillna(0, inplace=True)"
   ]
  },
  {
   "cell_type": "code",
   "execution_count": 119,
   "metadata": {},
   "outputs": [],
   "source": [
    "# but average BMI where BMI is null\n",
    "df1['bmi'].fillna((df1['bmi'].mean()), inplace=True)"
   ]
  },
  {
   "cell_type": "code",
   "execution_count": 120,
   "metadata": {},
   "outputs": [
    {
     "name": "stdout",
     "output_type": "stream",
     "text": [
      "days_to_first_et                        0\n",
      "days_to_coach                           0\n",
      "is_gender_female                        0\n",
      "is_gender_male                          0\n",
      "is_gender_other                         0\n",
      "bio_length                              0\n",
      "reasons_length                          0\n",
      "imagine_free_length                     0\n",
      "reason_limited_time                     0\n",
      "reason_family_obligations               0\n",
      "reason_work_obligations                 0\n",
      "reason_other                            0\n",
      "surgery_1yr                             0\n",
      "pain_severity                           0\n",
      "pain_vas                                0\n",
      "pain_description_length                 0\n",
      "bmi                                     0\n",
      "gad                                     0\n",
      "phq                                     0\n",
      "inbound_coach_messages_4_weeks          0\n",
      "inbound_coach_messages_1_week           0\n",
      "inbound_coach_messages_length_1_week    0\n",
      "inbound_member_messages_4_weeks         0\n",
      "inbound_member_messages_1_week          0\n",
      "surgery_message                         0\n",
      "call_message                            0\n",
      "interaction_message                     0\n",
      "video_message                           0\n",
      "booking_message                         0\n",
      "back                                    0\n",
      "hip                                     0\n",
      "knee                                    0\n",
      "neck                                    0\n",
      "shoulder                                0\n",
      "hot_word                                0\n",
      "dtype: int64\n"
     ]
    }
   ],
   "source": [
    "print(df1.isnull().sum()) # found no missing values in the data"
   ]
  },
  {
   "cell_type": "markdown",
   "metadata": {},
   "source": [
    "### 4. Define Y"
   ]
  },
  {
   "cell_type": "code",
   "execution_count": 121,
   "metadata": {},
   "outputs": [],
   "source": [
    "limit = 7\n",
    "\n",
    "# Define target column\n",
    "# See analysis below showed the 20% of customer = 9 or more messages\n",
    "df1['Y'] = df1['inbound_coach_messages_4_weeks'] > limit\n"
   ]
  },
  {
   "cell_type": "code",
   "execution_count": 122,
   "metadata": {},
   "outputs": [
    {
     "data": {
      "text/plain": [
       "False    40402\n",
       "True     12483\n",
       "Name: Y, dtype: int64"
      ]
     },
     "execution_count": 122,
     "metadata": {},
     "output_type": "execute_result"
    }
   ],
   "source": [
    "df1['Y'].value_counts()"
   ]
  },
  {
   "cell_type": "markdown",
   "metadata": {},
   "source": [
    "### 5. Save output file"
   ]
  },
  {
   "cell_type": "code",
   "execution_count": 123,
   "metadata": {},
   "outputs": [],
   "source": [
    "# Save cleaned data for future use\n",
    "df1.to_csv('analysisData1.csv', index=False)"
   ]
  },
  {
   "cell_type": "code",
   "execution_count": 124,
   "metadata": {},
   "outputs": [],
   "source": [
    "# Remove members that used hot words as we know they are mid-tier\n",
    "df1 = df1[df1['hot_word'] == 0] \n",
    "\n",
    "# Remove not needed columns\n",
    "df1 = df1.drop(['inbound_member_messages_4_weeks', 'inbound_coach_messages_4_weeks'], axis=1)\n",
    "df1 = df1.drop(['surgery_message', 'call_message', 'interaction_message', 'video_message', 'booking_message', 'hot_word'], axis=1)\n",
    "\n",
    "# Save file\n",
    "df1.to_csv('cleanData1.csv', index=False)"
   ]
  },
  {
   "cell_type": "raw",
   "metadata": {},
   "source": [
    "# Write dataframe as CSV file on S3\n",
    "from io import StringIO\n",
    "import boto3\n",
    "\n",
    "bucket='sagemaker-studio-02e2gyih7qot'\n",
    "output_file = 'cleanData1.csv'\n",
    "csv_buffer = StringIO()\n",
    "df1.to_csv(csv_buffer)\n",
    "s3_resource = boto3.resource('s3')\n",
    "s3_resource.Object(bucket, output_file).put(Body=csv_buffer.getvalue())"
   ]
  },
  {
   "cell_type": "raw",
   "metadata": {},
   "source": [
    "### SNS integration\n",
    "sns = boto3.client(\"sns\")\n",
    "\n",
    "# Publish to topic\n",
    "sns.publish(TopicArn=topic_arn, \n",
    "            Message=\"message text\", \n",
    "            Subject=\"subject used in emails\")"
   ]
  },
  {
   "cell_type": "code",
   "execution_count": null,
   "metadata": {},
   "outputs": [],
   "source": []
  }
 ],
 "metadata": {
  "instance_type": "ml.t3.medium",
  "kernelspec": {
   "display_name": "Python 3 (Data Science)",
   "language": "python",
   "name": "python3__SAGEMAKER_INTERNAL__arn:aws:sagemaker:us-west-1:742091327244:image/datascience-1.0"
  },
  "language_info": {
   "codemirror_mode": {
    "name": "ipython",
    "version": 3
   },
   "file_extension": ".py",
   "mimetype": "text/x-python",
   "name": "python",
   "nbconvert_exporter": "python",
   "pygments_lexer": "ipython3",
   "version": "3.7.10"
  }
 },
 "nbformat": 4,
 "nbformat_minor": 4
}
